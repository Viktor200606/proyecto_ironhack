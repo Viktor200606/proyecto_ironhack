{
 "cells": [
  {
   "cell_type": "code",
   "execution_count": 1,
   "metadata": {},
   "outputs": [],
   "source": [
    "import numpy as np\n",
    "import pandas as pd\n",
    "from random import randrange, choice\n",
    "import random\n",
    "import string # para procesar cadenas de python estándar\n",
    "import os\n",
    "import requests\n",
    "\n",
    "import nltk\n",
    "from sklearn.feature_extraction.text import TfidfVectorizer\n",
    "from sklearn.metrics.pairwise import cosine_similarity\n",
    "\n",
    "from gtts import gTTS\n",
    "from playsound import playsound\n",
    "\n",
    "from random import randrange, choice"
   ]
  },
  {
   "cell_type": "code",
   "execution_count": 2,
   "metadata": {},
   "outputs": [],
   "source": [
    "import sys\n",
    "#!{sys.executable} -m pip install gTTS SpeechRecognition playsound"
   ]
  },
  {
   "cell_type": "code",
   "execution_count": 3,
   "metadata": {},
   "outputs": [],
   "source": [
    "#texto a voz\n",
    "from gtts import gTTS\n",
    "from playsound import playsound\n",
    "def txt_voz(texto):\n",
    "    text2speech = gTTS(text=texto, lang='es')\n",
    "    text2speech.save('sample.mp3')\n",
    "    NOMBRE_ARCHIVO = \"sample.mp3\"\n",
    "    playsound(NOMBRE_ARCHIVO)\n",
    "    os.remove(NOMBRE_ARCHIVO)"
   ]
  },
  {
   "cell_type": "code",
   "execution_count": 4,
   "metadata": {},
   "outputs": [],
   "source": [
    "#Traducto de palabras realizado con Python\n",
    "\n",
    "def Traduccion(source, target, text):\n",
    "    parametros = {'sl': source, 'tl': target, 'q': text}\n",
    "    cabeceras = {\"Charset\":\"UTF-8\",\"User-Agent\":\"AndroidTranslate/5.3.0.RC02.130475354-53000263 5.1 phone TRANSLATE_OPM5_TEST_1\"}\n",
    "    url = \"https://translate.google.com/translate_a/single?client=at&dt=t&dt=ld&dt=qca&dt=rm&dt=bd&dj=1&hl=es-ES&ie=UTF-8&oe=UTF-8&inputm=2&otf=2&iid=1dd3b944-fa62-4b55-b330-74909a99969e\"\n",
    "    response = requests.post(url, data=parametros, headers=cabeceras)\n",
    "    if response.status_code == 200:\n",
    "        for x in response.json()['sentences']:\n",
    "            return x['trans']\n",
    "    else:\n",
    "        return \"Ocurrió un error\""
   ]
  },
  {
   "cell_type": "code",
   "execution_count": 5,
   "metadata": {},
   "outputs": [
    {
     "name": "stderr",
     "output_type": "stream",
     "text": [
      "[nltk_data] Downloading package punkt to\n",
      "[nltk_data]     C:\\Users\\A\\AppData\\Roaming\\nltk_data...\n",
      "[nltk_data]   Package punkt is already up-to-date!\n",
      "[nltk_data] Downloading package wordnet to\n",
      "[nltk_data]     C:\\Users\\A\\AppData\\Roaming\\nltk_data...\n",
      "[nltk_data]   Package wordnet is already up-to-date!\n"
     ]
    }
   ],
   "source": [
    "f=open('chatbot.txt','r',errors = 'ignore')\n",
    "raw=f.read()\n",
    "raw=raw.lower()# converts to lowercase\n",
    "nltk.download('punkt') # first-time use only\n",
    "nltk.download('wordnet') # first-time use only\n",
    "sent_tokens = nltk.sent_tokenize(raw)# converts to list of sentences \n",
    "word_tokens = nltk.word_tokenize(raw)# converts to list of words"
   ]
  },
  {
   "cell_type": "code",
   "execution_count": 6,
   "metadata": {},
   "outputs": [],
   "source": [
    "lemmer = nltk.stem.WordNetLemmatizer()\n",
    "#WordNet is a semantically-oriented dictionary of English included in NLTK.\n",
    "def LemTokens(tokens):\n",
    " return [lemmer.lemmatize(token) for token in tokens]\n",
    "remove_punct_dict = dict((ord(punct), None) for punct in string.punctuation)\n",
    "def LemNormalize(text):\n",
    " return LemTokens(nltk.word_tokenize(text.lower().translate(remove_punct_dict)))"
   ]
  },
  {
   "cell_type": "code",
   "execution_count": 7,
   "metadata": {},
   "outputs": [],
   "source": [
    "GREETING_INPUTS = [\"hello\", \"hi\", \"greetings\", \"sup\", \"what's up\",\"hey\",'how are you']\n",
    "GREETING_RESPONSES = [\"hi\", \"hey there\", \"*nods*\", \"hi there\", \"hello\", \"I am glad! You are talking to me\", 'fine and you']\n",
    "def greeting(sentence): \n",
    "    for word in sentence.split():\n",
    "        if word.lower() in GREETING_INPUTS:\n",
    "            return random.choice(GREETING_RESPONSES)"
   ]
  },
  {
   "cell_type": "code",
   "execution_count": 8,
   "metadata": {},
   "outputs": [],
   "source": [
    "def response(user_response):\n",
    "    robo_response=''\n",
    "    sent_tokens.append(user_response)\n",
    "    \n",
    "    TfidfVec = TfidfVectorizer(tokenizer=LemNormalize, stop_words='english')\n",
    "    tfidf = TfidfVec.fit_transform(sent_tokens)\n",
    "    vals = cosine_similarity(tfidf[-1], tfidf)\n",
    "    idx=vals.argsort()[0][-2]\n",
    "    flat = vals.flatten()\n",
    "    flat.sort()\n",
    "    req_tfidf = flat[-2]\n",
    "\n",
    "    if(req_tfidf==0):\n",
    "        robo_response=robo_response+\\\n",
    "                      \"Hell, I don't know what to answer, so I better tell you the same thing, so I can learn something new \"\n",
    "        return robo_response\n",
    "    else:\n",
    "        robo_response = robo_response+sent_tokens[idx]\n",
    "        return robo_response"
   ]
  },
  {
   "cell_type": "code",
   "execution_count": null,
   "metadata": {},
   "outputs": [
    {
     "name": "stdout",
     "output_type": "stream",
     "text": [
      "¡Si quieres que dejemos de hablar, solo escribe adios!\n",
      "\n",
      "Bot: Hola, mi nombre es Chatbot, estoy muy feliz de hablar contigo.\n",
      "Me gustaria saber ¿Cómo estas?\n",
      "Amig@: como estas\n",
      "Bot: excelente y tu\n",
      "Amig@: bien\n",
      "Bot: "
     ]
    },
    {
     "name": "stderr",
     "output_type": "stream",
     "text": [
      "C:\\ProgramData\\Anaconda3\\lib\\site-packages\\sklearn\\feature_extraction\\text.py:300: UserWarning: Your stop_words may be inconsistent with your preprocessing. Tokenizing the stop words generated tokens ['ha', 'le', 'u', 'wa'] not in stop_words.\n",
      "  'stop_words.' % sorted(inconsistent))\n"
     ]
    },
    {
     "name": "stdout",
     "output_type": "stream",
     "text": [
      "¡derecho!\n"
     ]
    }
   ],
   "source": [
    "flag=True\n",
    "\n",
    "new_dialogue = pd.read_csv('new_dialogue.csv')\n",
    "\n",
    "def aumenta_dialogo(new_dialogue):\n",
    "    archivo = open(\"chatbot1.txt\", \"r\")\n",
    "    di=archivo.readlines()\n",
    "    n=len(new_dialogue)\n",
    "    for i in range(len(di[1:])):\n",
    "        new_dialogue.loc[n,'question']=di[i]\n",
    "        new_dialogue.loc[n,'response']=di[1:][i]\n",
    "        n+=1\n",
    "    archivo.close()\n",
    "    print(di)\n",
    "    return new_dialogue\n",
    "\n",
    "#new_dialogue=aumenta_dialogo(new_dialogue)\n",
    "\n",
    "n_d=len(new_dialogue)\n",
    "\n",
    "print('¡Si quieres que dejemos de hablar, solo escribe adios!\\n')\n",
    "print(\"Bot: \"+ Traduccion(\"en\", \"es\", \"Hello my name is Chatbot, \\\n",
    "        I am very happy to talk to you,\")+'\\nMe gustaria saber ¿Cómo estas?')\n",
    "txt_voz(Traduccion(\"en\", \"es\", \"Hello my name is Chatbot, \\\n",
    "        I am very happy to talk to you,\")+'\\nMe gustaria saber ¿Cómo estas?')\n",
    "while(flag==True):\n",
    "    user_response = input('Amig@: ')\n",
    "    user_response = Traduccion(\"es\", \"en\", user_response)\n",
    "    user_response=user_response.lower()\n",
    "    try:\n",
    "        if new_dialogue.loc[n_d,'response']=='xxxxxxxxxx':\n",
    "            new_dialogue.loc[n_d,'response']= user_response\n",
    "            n_d+=1\n",
    "    except:\n",
    "        pass\n",
    "    if(user_response not in ['goodbye', 'bye', 'see you', 'see you later', 'I hope to see you soon']):\n",
    "        query=new_dialogue[new_dialogue['question']==user_response]\n",
    "        if 0<len(query):\n",
    "            n=choice(query.index)\n",
    "            print(\"Bot: \"+Traduccion(\"en\", \"es\", query.loc[n,'response']))\n",
    "            txt_voz(Traduccion(\"en\", \"es\", query.loc[n,'response']))\n",
    "        else:\n",
    "            respuesta=greeting(user_response)\n",
    "            if(respuesta!=None):\n",
    "                print(\"Bot: \"+Traduccion(\"en\", \"es\", respuesta))\n",
    "                txt_voz(Traduccion(\"en\", \"es\", query.loc[n,'response']))\n",
    "            else:\n",
    "                print(\"Bot: \",end=\"\")\n",
    "                res=response(user_response)\n",
    "                print(Traduccion(\"en\", \"es\", res))\n",
    "                txt_voz(Traduccion(\"en\", \"es\", res))\n",
    "                if res ==\"Hell, I don't know what to answer, so I better tell you the same thing, so I can learn something new \":\n",
    "                    print(\"Bot: \"+Traduccion(\"en\", \"es\",user_response))\n",
    "                    txt_voz(Traduccion(\"en\", \"es\",user_response))\n",
    "                    new_dialogue.loc[n_d,'question']=user_response\n",
    "                    new_dialogue.loc[n_d,'response']='xxxxxxxxxx'\n",
    "                sent_tokens.remove(user_response)\n",
    "    else:\n",
    "        flag=False\n",
    "        print(\"Bot: \"+Traduccion(\"en\", \"es\", \"I say goodbye wishing that just like today you never stop smiling\"))\n",
    "        txt_voz(Traduccion(\"en\", \"es\", \"I say goodbye wishing that just like today you never stop smiling\"))\n",
    "    new_dialogue.to_csv('new_dialogue.csv', index=False)"
   ]
  },
  {
   "cell_type": "code",
   "execution_count": null,
   "metadata": {},
   "outputs": [],
   "source": [
    "import re\n",
    "x='ha hasta'\n",
    "re.findall('ha ', x)"
   ]
  },
  {
   "cell_type": "code",
   "execution_count": null,
   "metadata": {},
   "outputs": [],
   "source": [
    "import sys\n",
    "!{sys.executable} -m pip install pyaudio"
   ]
  }
 ],
 "metadata": {
  "kernelspec": {
   "display_name": "Python 3",
   "language": "python",
   "name": "python3"
  },
  "language_info": {
   "codemirror_mode": {
    "name": "ipython",
    "version": 3
   },
   "file_extension": ".py",
   "mimetype": "text/x-python",
   "name": "python",
   "nbconvert_exporter": "python",
   "pygments_lexer": "ipython3",
   "version": "3.7.3"
  }
 },
 "nbformat": 4,
 "nbformat_minor": 2
}
