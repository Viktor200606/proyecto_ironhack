{
 "cells": [
  {
   "cell_type": "code",
   "execution_count": 4,
   "metadata": {},
   "outputs": [],
   "source": [
    "import nltk\n",
    "from nltk.stem.lancaster import LancasterStemmer\n",
    "import os\n",
    "import json\n",
    "import datetime\n",
    "import pickle\n",
    "\n",
    "stemmer = LancasterStemmer()"
   ]
  },
  {
   "cell_type": "code",
   "execution_count": 5,
   "metadata": {},
   "outputs": [
    {
     "name": "stdout",
     "output_type": "stream",
     "text": [
      "3643 sentences in training data\n"
     ]
    }
   ],
   "source": [
    "training_data = []\n",
    "\n",
    "with open(\"libreto.dat\", \"rb\") as f:\n",
    "    training_data = pickle.load (f)\n",
    "\n",
    "print (\"%s sentences in training data\" % len(training_data))"
   ]
  },
  {
   "cell_type": "code",
   "execution_count": 6,
   "metadata": {},
   "outputs": [
    {
     "name": "stdout",
     "output_type": "stream",
     "text": [
      "3643 documents\n",
      "5 classes ['raj', 'howard', 'leonard', 'penny', 'sheldon']\n",
      "3951 unique stemmed words ['humourmomet', 'battlest', 'addict', 'year', 'peek', 'pretty', 'issu', 'ha-ha-h', 'pseudo', 'respect', 'refresh', 'booz', 'res', 'tal', 'cow', 'splintered', 'twin', 'isaac', 'repuls', 'model', 'pap', 'respons', 'knock', 'send', 'peer', 'hulk', 'uncal', 'yakkety-yakking', 'workshop', 'arm', 'nors', 'sucky', 'per', 'nurs', 'ir', 'pen', 'celsi', 'keen', 'tornado', 'culin', 'graph', 'substitut', 'suburb', 'serotonin', 'glow', 'rog', 'yearn', 'trunk', 'you…', 'who', 'cardio-funk', 'polym', 'bowel', 'sex', 'sportsm', 'lobst', 'legend', 'unfortun', 'daught', 'anyth', 'sociopa', 'carefr', 'mail-order', 'hard', 'despit', 'blah', 'finkleday', 'hunch', 'ss', 'myself', 'profil', 'humbl', 'sight', 'exceiv', 'anoth', 'cross', 'fork', 'engin', 'pour', 'hair', 'four', 'wor', 'beam', 'beatbox', 'diet', 'he', 'chex', 'outweigh', 'cutest', 'scor', 'six-thirty', 'list', '5.0', 'prowl', 'today', 'picasso', 'burg', 'forc', 'enjoy', 'europ', 'housekeep', 'cult', 'lingu', 'cough', 'aspir', 'colonoscop', 'newcom', 'unb', 'bat', 'spont', 'surfac', 'sist', 'idiopath', 'annivers', 'very', 'comput', 'twenty-six', 'discovery', 'stink', 'refoc', 'the', 'deeply', 'seat', 'nam', 'th-th-th-that', 'street', 'app', 'tomato', 'deceit', 'wif', 'tamp', 'sal', 'prom', 'kore', 'sympathy', 'aa', 'shar', 'top', 'gettysburg', 'mash', 'webchat', 'hel…hello', 'stock', 'with', 'shap', 'siz', 'alway', 'milk', 'thirty', 'recogn', 'fyi', 'reset', 'mattress', 'ta', 'everyth', 'conceiv', 'd', 'handy', 'refocus', 'guest', 'lost', 'tet', 'rot', '12.50', 'exchang', 'dispos', 'raj', '1.8', 'tongu', 'homeless', 'ring', 'peas', 'middle-east', 'puls', 'rath', 'difficult', 'pref', 'such', 'tre', 'commun', 'calc', 'hono', 'wouldn', 'rop', 'mathem', 'laundry', 'entir', 'load', 'bold', 'ent', 'quit', '187', 'run', 'asham', 'forg', 'law', 'go-oh-oh', 'refus', 'healthc', 'pupil', 'scooby', 'wel', 'scar', 'proud', 'boston', 'reg', 'wav', 'mmmm', 'gorilla', 'least', 'basket', 'prov', 'gay', 'back-story', 'team', 'bran', 'unit', 'sci-f', 'cocktail', 'payload', 'polmerry', 'schmilepton', 'styl', 'school', 'geeky', 'decid', 'con', 'ourselv', 'germany', 'congest', 'carrot', 'sens', 'decontamin', 'bowes-einstein', 'provide…', 'heart', 'sloppy', 'ratio', 'sandwich', 'fridg', 'nt', 'snot-web', 'accum', 'destiny', 'glad', 'oil', 'irritability…', 'intim', 'entertain', 'masturb', 'forbid', 'high-def', 'dispers', 'soc', 'illino', 'misunderstood', 'appl', 'dant', 'hel', 'tishm', 'empty', 'sauc', 'pei', 'eight', 'superm', 'door', 'audy', 'tir', 'match', 'phrase', 'gentl', 'mayb', 'expon', 'neg', 'emot', 'surgeon', 'arrhythm', 'deto', 'suicid', 'breech', 'intellig', 'disbeliev', 'klatch', 'strip', 'mum', '11pm', 'had', 'acquisit', 'object', 'lax', 'messy', 'lot', 'yet', 'wast', 'und', 'parad', 'inhabit', 'astrolog', 'humy', 'mcm', 'inargu', 'emo', 'span', 'together…', 'sing', 'fig', 'sarap', 'bun', 'pick', 'month', 'loin', 'maraud', 'unmet', 'subset', 'watch', 'stat', 'abl', 'slept', 'bird', 'standard', 'fat', 'technet', 'role-played', 'sou', 'patholog', 'fem', 'ston', 'my…', 'wind', 'specy', 'pretend', 'bertram', 'di', 'rifl', 'damsel', 'back', 'tickl', 'third', 'increas', 'nud', 'avoc', '’', 'barbecu', 'lullaby', 'interject', 'eskimo', 'rhet', 'eng', 'reject', 'popul', 'unreason', 'home-mad', '800', 'took', 'footbal', 'sword', 'blogosph', 'fantasy…', 'conf', 'program', 'elimin', 'freez', 'smart', 'actress', 'metaph', 'birthday', 'breast', '…thing', '24', 'aber', 'cris', 'neo', 'jock', 'disintegr', 'pet', 'rehears', 'unavail', 'crash', 'apparat', 'divert', 'thong', 'attract', 'import', 'auth', 'karaok', 'ex', 'civil', 'addit', 'fantasy', 'twenty-five', 'ment', 'ang', 'stand', 'goe', 'low', 'afford', 'undergon', 'sat', 'reprogram', 'pony', 'schrodinger…', 'attach', 'hom', 'speak', 'shav', 'educ', 'stranger', 'jew', 'support', 'bank', 'driv', 'non-professional', 'hungry', 'evolv', 'ou-ooooo-ut', 'thorough', 'corn', 'limit', 'krypton', 'disembody', 'rehab', 'consid', 'sunr', 'satisfy', 'man', 'breakfast', 'strong', 'twitch', 'brand', 'releas', 'week', 'immort', 'gosh', 'property', 'rush', 'larg', 'chat', 'redund', 'post', '4,390', 'asterisk', 'jan', 'accommod', 'suck', 'amaz', 'nautil', 'sap', 'stil', 'flo', 'jellyf', 'a…', 'wat', 'drink', 'cylind', 'join', 'apprecy', ':', 'jury', 'afterward', 'first', 'from', 'story', 'odin', 'synt', 'fus', 'illumin', 'fuddruck', 'adv', 'par', 'hamburg', 'belov', 'again.', 'research…', 'himself', 'behavio', 'first…', 'wrestl', 'sheldon…', 'mamm', 'mic', 'sil', 'paw', 'scath', 'butch', 'wooh', 'capit', 'thankyou', 'must', 'fan', 'mag', 'dynam', 'land', 'castl', 'numb', 'evil', 'regret', 'for', 'neuro-chemical', 'we', 'i…', 'end', 'bridg', 'ar', 'routin', 'spurt', 'suggest', 'verb', '$', 'lied', 'break-ups', 'until', 'warm', 'watson', 'cousin', 'recruit', 'herself', 'whit', 'mai', 'edg', 'dvd', 'senty', 'wil', 'capac', 'screws', 'compuls', 'dead', 'grown', 'is', 'spac', 'reservoir', 'silicon', 'sport-co', 'recov', 'bagel', 'examin', 'oxy-acetaline', 'return', 'diff', 'excel', 'exquisit', 'entrop', 'consist', 'nephew', 'flawed…', 'expel', 'milky', 'young', 'huh', 'peac', 'smil', 'raz', 'lim', 'honest', 'ther', 'dust', 'predict', 'non-optional', 'princess', 'm', 'agil', 'falcon', 'pol', 'colleg', 'to…', 'dur', 'nothing…', 'chant', 'lat', 'ambigu', 'forget', 'spy', 'egot', 'ven', 'crawl', 'pathet', 'hadn', 'wikiped', 'fertil', 'god', 'buckl', 'pattern', 'footstep', 'undershort', 'newton', 'crowd', 'check', 'find', 'slippery', 'influenz', 'fortun', 'row', 'scratchers', 'it', 'weak', 'offlin', 'shirt', 'altern', 'qual', 'bedrock', 'believ', '32', 'chines', 'portray', 'transvestit', 'dic', 'delicy', 'steep', 'overdo', 'oh-oh', 'adosecond', 'punchal', 'def', 'blad', 'froz', 'zzz-zz-zz-zz', 'rack', 'bab', '2am', 'tuesday', 'replic', 'iron', 'david', 'query', 'brak', 'rar', 'cuckoo', 'sab', 'blous', 'fict', 'tabl', 'cast', 'pictograph', 'rom', 'bacon', 'guy…', 'screenplay', 'shel', 'gril', 'lighth', 'alzheim', 'as', 'slight', 'exampl', 'taur', 'extend', 'hurry', 'tract', 'reassembl', 'magnet', 'n', 'lantern', 'sick', 'okay', 'mex', 'yutz', 'hypothet', '28', 'spoon', 'chequ', 'somehow', 'stereo', 'video', 'bar-mizvah', 'park', 'crouton', 'neuroscy', 'drag', 'mercy', 'arab', 'fair', 'rob…', 'self', 'desc', 'imply', 'facebook', 'fif', 'missy', 'among', 'japanes', '1', 'thumb', 'feast', '1930', 'hag', 'lect', 'vh1', 'rac', 'nightlight', 'they', 'ory', 'galileo', 'poppy', 'labo', 'ergo', 'headboard', 'tradit', 'fal', 'mir', 'chas', 'relaps', 'hygy', 'cal', 'lunch', 'mit', 'beyond', 'convint', 'bev', 'thin', 'me…', 'camp', 'wed', 'swoosh', 'proctolog', 'telepath', 'nobl', 'halo', 'most', 'taw', 'eleph', 'dist', 'solo', 'invalid', 'leek', 'desk', 'round', 'gah', 'kil', 'becam', 'intol', 'dev', 'chowdry', 'poncho', 'mouth', 'charg', 'rendit', 'crap', 'repetit', 'aspect', 'pow', 'cat', 'remark', 'sembl', 'oy', 'blog', '06', 'lawy', 'downstair', 'ooh', 'boss', '25', 'nos', 'assist', 'affirm', 'curios', 'gest', 'simpl', 'gap', 'shuddup', 'isotop', 'hundr', 'freckl', 'your…', 'tonight', 'boyfriend', 'rem', 'solid', 'tremend', 'leakey', 'neeeeeoooooowwwww', 'beg', 'doug', 'chos', 'partn', 'bedroom', 'dial', 'weapon', 'luck', 'grew', 'mim', '130', 'comedy', 'eth', 'harvest', 'at…', 'elig', 'fac', 'resid', 'result', 'disk', '2328', 'lean', 'goldfarb', 'sarcast', 'bact', 'uh', 'resta', 'scrape', 'pocket', 'meant', 'next', 'molec', 'custody', 'nour', 'prison', 'grandmoth', '25th', 'old', 'uncomfort', 'fruitless', 'stop', 'kosh', 'infantry', 'are', 'best', 'loos', 'glor', 'mik', 'noah', 'sho', 'whil', 'select', 'enem', 'c', 'psycholog', 'warlock', 'ingredy', 'paus', 'fail', 'recr', 'judg', 'yip', 'friday', 'els', 'christmas', 'spee', 'back-up', 'obnoxy', 'janit', 'know', 'overlay', 'alumin', 'steak', 'julep', 'bind', 'real', 'miss', 'effemin', 'orgasm', 'frolick', 'org', 'liv', 'plan', 'deck', 'tea', 'plaus', 'spur', 'cocktain', 'cooky', 'mad', 'mrs', 'pound', 'dil', 'dang', 'ey', '140', 'er', 'distort', 'cal-tech', 'straightening', 'threw', 'ham', 'anod', 'buick', 'cent', 'ton', 'ver', 'cool', 'simpson', 'not…', 'anyhow', 'replac', 'becaus', 'ground', 'kiss', 'pep', 'fre', 'swab', 'facul', 'eight…', 'rigby', 'rec', 'date-lik', 'sak', 'mademoisel', 'reply', 'ipod…', 'transp', 'allow', 'const', 'nonch', 'lawsuit', 'our', 'likew', 'chuppah', 'transcend', 'wuh', 'express', 'jealousy', 'spelunk', 'chrono-dynamics', 'perhap', 'connect', 'wait…', 'day-ted', 'sang', 'target', 'pot', 'tru', 'cousteau', 'intend', 'doesn', 'snor', '97', 'mend', 'strongly', 'unorthodox', 'shoot', 'pool', 'hal', 'ind', 'fash', 'ord', 'duck', 'carbonar', 'brrrr', 'record', 'som', 'swirl', 'madam', 'dancing…', '16', 'rady', 'roadblock', 'respawn', 'said', 'sexiest', 'junk', 'horoscop', 'laforg', 'heterosex', 'math', 'asleep', 'colorado', 'paisley', 'conv', 'sluttiest', 'semi-conductor', 'toddl', 'marvel', 'moon', 'pitfal', 'chem', 'checkm', 'past', 'background', 'chest', 'banan', 'med', 'elzebub', 'cd', 'battl', 'without', 'insec', 'psh', 'wak', 'energy', 'rabb', 'rant', 'whiny', 'indict', 'fit', 'alt', 'grip', 'lox', 'provint', 'muse', 'dear', 'shhh', 'sir', 'toothbrush', 'rob', 'comatos', 'break-up', 'hofstadt', 'intersect', 'ultim', 'poor', 'because…', 'hee-h', 'lam', 'chopstick', 'du', 'gupt', 'choos', 'bomb', 'antibody', 'away', 'brought', 'bread', 'reckon', 'hunt', 'cabl', 'bullock', 'cheesecake–scented', 'pin', 'no-more-tears', 'halloween', 'brush', 'skip', 'flank', 'steam', 'stal', 'fuzzyboot', '2.6', 'stewart', 'out…', 'penny…', 'risk', 'nev', '26', 'aft', 'destroy', 'telephon', 'partic', 'bel', 'predisposit', 'excit', 'dream', 'iq', 'mat', 'tee', 'multivitamin', 'port', 'son', 'coit', 'acquir', 'hello', 'hous', 'thursday', 'del', 'sid', 'insert', 'attack', 'ethernet', 'polyp', 'klingon', 'awesom', 'acc', 'definit', 'understand', '.', 'many', 'fank-u', 'screen', 'betray', 'luncheon', 'erot', 'bar', 'offspr', 'barry', 'homework', 'piec', 'profess', 'homo', 'autograph', 'avoid', 'wept', 'inacc', 'height', 'smoo', 'robot', 'sorry…', 'wolowitz…', 'ranch', 'she', '1935', 'mmm', 'mass', 'trek', 'didn', 'has', 'ai', 'mr', 'construct', 'appet', 'amongst', 'dam', 'resed', 'rough', 'gableh', 'keebl', 'receiv', 'niec', 'lie', 'break', 'brief', 'tig', 'broccol', 'cobbl', 'glar', 'direct', 'enterpr', 'fing', 'goddess', 'strangers', 'attempt', '2a', 'excess', 'infatu', 'non-organic', 'high-school', 'pants', 'formul', 'underestim', 'emil', 'conson', 'toy', 'splendidly', 'headset', 'cer', 'flu', 'condom', 'their', 'aquar', 'inh', 'ass-kicking', 'in', 'idiosyncrasy', 'felin', 'pajama', 'le', 'asthm', 'fast', 'obstac', 'everyon', 'hon', 'court', 'lui', 'solv', 'cours', 'ahead', 'design', 'vert', 'wallet', 'alon', 'intimid', 'paid', 'ebol', 'hood', '15,000', 'univers', 'sigm', 'nuclear', 'ox', 'bowl', 'strategies', 'ross', 'cre', 'ink', 'dens', 'lov', 'russ', 'access', 'long-term', 'anct', 'audit', 'gram', 'hung', 'discuss', 'meat', 'guit', 'adjac', 'bus', 'doo', 'apnoe', 'every', 'menopaus', '4,400lb', 'cannib', 'spring', 'mos', 'meson', 'troubleshoot', 'rif', 'googl', 'huyg', 'hypo-allergenics', 'alik', 'hotel', '62', 'hitch', 'misfir', 'theoret', 'mystery', 'read', 'putz', 'bast', 'balcony', 'beng', 'gon', 'tray', 'shrug', 'runny', 'confront', 'heartless', 'sea-level', 'merry-go-round', 'slu', 'tequil', 'cas', 'wolfgang', 'buck', 'hand', 'listen…', 'macho', 'chil', 'food', 'suppl', 'oneself', 'misunderstand', 'bry', 'mimeaux', 'thought…', 'priz', 'bernstein', 'output', 'indir', 'inst', 'rain', 'imp', 'prevy', 'salt', 'recommend', 'leagu', 'clev', 'mov', 'hord', 'x10s', 'marriot', 'season', 'thor', 'telescop', 'you', 'vey', 'est', 'friend', 'road', 'rod', 'manip', '4,000lb', 'bbc', 'bark', 'hack', 'disappoint', 'torch', 'art', 'prevost', 'accord', 'sarcasm', 'stor', 'common', 'subst', 'condescend', 'occasionally…', 'rebound', 'propens', 'blew', 'spraying', 'speedy', 'start', 'estab…', 'perpet', 'grief', 'bio-feedback', 'reason', 'serg', 'yellow', 'breez', 'decad', 'blown', 'bubbl', 'obvy', 'applaus', 'few', 'angl', 'privileg', 'publ', 'journ', 'ego', 'password', 'post-pubesc', 'neck', 'repair', 't', 'intellect', 'girl', 'doct', 'genr', 'neuron', 'semi-pro', 'obsess', 'pay', 'sibl', 'wrung', 'gown', 'log', 'leav', 'noth', 'pointy', 'outsid', 'crescent-shaped', 'carbohydr', 'oblig', 'homo-habilus', 'hyp', 'pre-federation', 'arct', 'burn', 'align', 'manganes', '7', 'vaporub', 'den', 'string', 'becom', 'complet', 'paintbal', 'elf', 'bloom', '1979', 'schedule', 'termin', 'boy-girl', 'complex', 'tend', 'foreskin', 'mor', 'ordin', 'key', 'imit', 'unobserv', 'plu', 'famili', 'spirit', 'fix', 'fun', 'grow', 'doodl', 'thy', 'underwear', 'beat', 'abus', 'mislead', 'two', 'sev', 'click', 'class', 'kit', 'aaaaaa', 'unanim', 'introduc', 'nip', '10th', 'millen', 'found', 'dowel', 'thailand', 'and…', 'impact', 'envy', 'chain', 'port-au-prince', 'austin', 'prospect', 'alexand', 'purr.', 'comply', 'system', 'greet', 'affect', 'ont', 'metic', 'thing', 'gre', 'carth', '640', 'loi', 'clu', 'one…', 'wors', 'amade', 'self-explanatory', 'about', 'noticeboard', 'eg', 'golf', 'farmin..farm…', 'doing', 'saturday', 'ap', 'what', 'spar', 'graham', 'q', 'emerg', 'please…', 'hir', 'off', 'spel', 'synthes', 'gastronom', 'begin', '1-2-3-4', 'block', 'softw', 'chutney', 'smould', 'incin', 'bag', 'littl', 'uh-oh', 'decel', 'vehic', 'gig', 'twe', 'howard', 'saw', 'char', 'that', 'photocel', 'neeeeoooowwwww', 'uh-huh', '%', 'ass', 'alpha-wave', 'suff', 'oxyg', 'traject', 'bargain', 'lactos', 'geomet', 'handkerchief', 'bam', 'internet', 'undergo', 'syndrom', 'dish', 'wear', 'i', 'dammit', 'patrick', 'everybody', 'meddl', 'mock', 'long', 'catalyst', 'goodby', 'approv', 'virtu', 'democr', 'ol', 'oppon', 'sort', 'philosoph', 'juvenil', 'bould', 'us', 'half', 'voil', 'detox', 'twenty-first', 'beard', 'avail', 'rugby', 'traff', 'observ', 'houston', '212', 'doog', 'starch', 'naus', 'them', 'wov', 'died', 'appreeee…', 'group', 'slit', 'poop', 'phys', 'nobody', 'doubl', 'douch', 'instead', 'vuln', 'beta-function', 'spherical', 'swallow', 'sperm', 'af', 'extrem', 'fant', 'bount', 'blossom', 'combin', 'cush', 'bartend', 'tv', '6:15', 'wherea', 'soup', 'dat', 'adject', 'warf', 'neeeeooooowwwww', 'chick', 'play', 'certain', 'zi', 'symmetry', 'sleep', 'eat', 'kick-ass', 'bay', 'truck', 'upgrad', 'helmet', 'assum', 'moot', 'penny', 'smug', 'ten', 'fur', 'ench', 'met', 'hubbl', 'pav', 'chor', 'antonio', 'cold', 'abroad', 'harm', 'holy', 'research', 'whos', 'appropry', 'sent', 'champ', 'guess', 'hid', 'cosy', 'subconscy', 'lysol', 'immac', 'bal', 'ticket', 'occas', 'heal', 'particul', 'western', 'and', 'meaningless', 'mom', 'mcnair', 'around', 'sport', 'idiot', 'three-dimensional', 'booty', 'disrupt', 'christian', 'zip', 'poss', 'dork', 'goblin', 'bright', 'aggrav', 'replica', 'che', 'apricot', 'isn', 'sigh', 'memorabil', 'beer', 'priv', 'task', 'sol', 'pointless', 'against', 'neeeeeooooowwwwww', 'domin', 'idea', 'succumb', 'proxim', 'stay', 'essay', 'yard', 'colon', 'swordmast', 'menu', 'd.', 'yarmulkah', 'untouch', 'van', 'bottl', ')', 'money', 'wow', 'army', 'posit', 'cylindr', 'libido', 'janu', 'semi-rational', 'gandh', 'kitty', 'vertigo', 'sim', 'remov', 'il', 'demand', 'chivalry', 'rapid', 'geni', 'slea', 'disgust', 'fist', 'soft', 'injury', 'cak', 'chen', 'dent', 'achiev', 'swim', 'thi', 'disappear', 'cancel', 'argu', 'centrifug', 'car', 'download', 'puk', 'a', 'deploy', 'captain', 'extra-large', 'dress', 'dud', 'bud', 'naiv', 'compil', 'desir', 'trick', 'shouldn', 'grab', 'frodo', 'algebra', 'degr', 'apart', 'right', 'faa', 'harass', 'explain', 'norm', 'prem', 'press', 'valu', 'speedo', 'disast', 'no-oh', 'begun', 'shown', 'broadband', 'coop', 'morn', 'my', 'angry', 'zhing', 'congrat', 'sen', 'built', 'her', 'arrang', 'queen', 'twelv', 'self-destruction', 'now', 'teach', 'swat', 'subject', 'allergy', 'fluid', 'desp', 'kitch', 'pinch', 'grin', 'vis', 'puff', 'fertilizy', 'sensit', 'biolog', 'psychy', 'throw', 'ins', 'cryog', 'virt', '2', 'citr', 'cud', 'tortill', 'talk', 'network', 'swed', 'dog', 'fourteen', 'embody', 'pron', 'crazy', 'travel', 'ste', 'mil', 'hatch', 'amount', 'id', 'ready', 'galactic', 'plenty', 'whe', 'ungod', 'foot', 'plasm', 'tub', 'glory', 'invit', 'elev', 'hu..', 'involunt', 'word', 'plexiglass', 'o-o-o-o-h', 'clin', 'mix', 'upon', 'unknown', 'tail', 'obtain', 'wield', 'excus', 'godzill', 'pric', 'magneto', 'skywalk', 'pvc', 'elliot', 'pvc…', 'basebal', 'uh-uh', 'dalm', '1948', 'cindy', 'knight', 'annihil', 'abov', 'camer', 'mar', 'dvds', 'whor', 'tim', 'relentless', 'hist', 'int', 'wrap', 'neurot', 'fly', 'wednesday', 'krishn', 'onlin', 'delud', 'unc', 'of…', 'unpleas', 'pant', 'alph', 'cafeter', 'pag', 'no', 'phd', 'youtub', 'rel', 'typ', 'scrubs', 'anecdot', 'nuevo', 'thos', 'madonn', 'hippocamp', 'tayl', 'penitenty', 'overcom', 'theref', 'gentlem', 'stair', 'trous', 'pitch', 'accel', 'count', 'form', 'strange', 'fright', 'titan', 'mailm', 'self-taught', 'stuck', 'rum', 'ding-dong', 'rul', 'sausage-based', 'good', 'downhil', 'o', 'lifelong', 'spil', 'ghost', 'cash', 'pig', 'condens', 'uh-uh-uh', 'fifteen', 'radioact', 'relev', 'typhoid', 'ful', 'perform', 'etc', 'bound', 'nebrask', 'integr', 'enough', 'sorry', 'h', 'rebel', 'corvet', 'szechu', 'tuneless', 'morlock', 'nerd', 'bor', 'woodstock', 'free', 'unseen', 'californ', 'furnit', 'crybaby', 'troy', 'hallway', 'deal…', 'fantast', 'zero', 'coolest', 'fir', 'via', 'neighbo', 'deem', 'correct', 'william', 'hemisph', 'tool', 'cous', 'been', 'marathon', 'supply', '165', 'how', 'queu', 'demeano', 'sink', '&', 'myriad', 'misunder…', 'bottom', 'when…', 'hostess', 'simply', 'smartest', 'welcom', 'certainty', 'mem', 'shrimp', 'orang', '(', 'cloth', 'toby', 'difficul', 'bring', 'ya', 'a-buzzing', '360', 'defin', '7:05', 'bulk', 'him', 'doorknob', 'film', 'cuisin', 'hait', 'intern', 'spend', 'wid', 'brisket', 'l.a.', 'agamemnon…', 'sub', 'aeg', 'si', 'awkward', 'limb', 'ou-oooo-ut', 'voc', 'contact', 'cartoon', 'afternoon', 'out', 'imposs', 'beth', 'tanw', 'traum', 'drug-addled', 'quick', 'girlfriend', 'convolv', 'stress', 'undign', 'branch', 'sssshhhh', 'rely', 'tee-shirt', 'twic', 'calm', 'induc', 'wag', 'chess', 'tak', 'wer', 'tast', 'left', 'costum', 'melt', 'sexy', 'voic', 'murd', 'jupit', 'draft', 'pan', 'casimir', 'red', 'monst', 'lift', 'body', 'i.', 'bio-social', 'smal', 'through…', 'leng', 'shuttl', 'good.', 'caus', 'adam', 'rol', 'alcohol', 'process', 'indigest', 'whoev', 'weird', 'me', 'symbol', 'cinderblock', 'oppos', 'spread', 'react', 'intercours', 'catchy', 'hil', 'prev', 'aaah', 'arbit', 'jug', 'resist', 'uv', 'subtext', 'wint', 'elsewh', 'lay', 'hallelujah', 'nevertheless', 'dunno', 'blurry', 'chisel', 'mcflono', 'radio', 'thou', 'if', 'get', 'sof', 'twist', 'dad', 'step', 'rebuilt', 'bear', 'edit', 'infra-red', 'spear-fishing', 'co-conspirators', 'shi', 'embarrass', 'crunch', 'mandarin', 'night', 'expery', 'rang', 'dea', 'tailless', 'kick', 'lack', 'wreck', 'surpr', 'distribut', 'klein', 'concern', 'steel', 'statuesqu', 'bathroom', 'snail', 'candyland', 'waitress', 'carry', 'stupid', 'lesley', 'fact', 'pres', 'awak', 'rov', 'agree', 'vitamin', 'com', '760', 'assembl', 'spot', 'look', 'through', 'nor', 'yo', 'then', 'mack', 'war', 'let', 'epinephrin', 'swiss', 'fierc', 'squ', 'peew', 'insomn', 'pfff', 'like…', 'won-tons', 'someon', 'sezchu', 'toward', 'colleagu', 'infect', 'company', 'unsheath', 'marsh', 'feminin', 'bath', 'someth', 'chang', 'urin', 'neon', 'non-verbal', 'thirty-six', 'super-solid', 'lottery', 'deal', 'eith', 'gath', 'lei', 'new', 'hog', 'between', 'yel', 'rous', 'medpack', 'revers', 'pathog', 'ipod', 'rich', 'expert', 'mcfly', 'grandchildr', 'by', 'problem', 'goat', 'fling', 'slow', 'phon', 'bang-bang', 'hm', 'quiet', 'paradigm', 'individ', '67', 'rev', 'perfum', 'madamoisel', 'unhappy', '‘', 'heteron', 'leo', 'dram', 'pump', 'sew', 'gam', 'villain', 'folk', 'collid', 'riddl', 'nin', 'beauty', 'turn', 'panel', 'paramet', 'clos', 'coincid', 'clear', 'nop', 'yourselv', 'is…', 'throwing', 'switch', 'far', 'prob', 'wedg', 'gablehaus', 'colleague/friendship', 'unfamili', 'england', 'kirk', 'proport', 'dict', 'belong', 'goosebump', 'corrug', 'bluetoo', 'jacuzz', 'crit', 'dr', 'napkin', 'insist', 'drip', 'thank', 'anybody', 'orac', 'strains', 'circumst', 'collect', 'aly', 'taught', 'volunt', 'flashlight', 'bee', 'android', 'fratern', 'off-screen', 'bastard', 'w-wait', 'ugh', 'ext', 'hugh', 'rest', 'langu', 'vulc', 'bulletin', 'behead', '14', 'ye', 'sign', 'workaday', 'iffy', 'wrot', 'breath', 'high-resolution', 'pharmaceut', 'famy', 'pottery', 'eighteen', 'pleas', 'lettuc', 'glow-in-the-dark', 'swamp', 'turkey', 'planetar', 'sunday', 'quizzno', 'work', 'betty', 'neith', 'hypo-allergenic', 'wing-man', 'min', 'ha', 'retriev', 'just', 'disco', 'anyway', 'smok', 'continu', 'that-a', 'dig', 'dreamy', 'counter-clockwise', 'loc', 'blindfold', 'bonjo', 'thank-you', 'wrong', 'mattel', 'stain', 'symptom', 'hippo', 'eggpl', 'miny', 'whenev', 'which', 'weekend', 'zod', 'f', 'diagram', 'bon', 'oooaw', 'besid', 'frank', 'se', 'calico', 'aw', 'outburst', 'psychot', 'reductio-ad-absurdum', 'exerc', 'thu', 'rout', 'fet', 'subson', 'magn', 'black', 'put', 'ruby', 'jumbo', 'kan', 'shelf', 'jeez', 'strongest', 'foreign', 'shal', 'un-unravelable', 'israel', 'coupl', 'structure', 'propos', 'ridic', 'apolog', 'grotesqu', 'stressful', 'granol', 'frivol', 'comfort', 'hypothes', 'woo', 'toast', 't…', 'approxim', 'schmear', 'within', 'cloud', 'lew', 'fath', 'somewh', 'smel', 'flamingo', 'unconscy', 'try', 'favourit', 'spong', 'wareh', 'keep', 'plant', 'compet', 'motorcyc', 'impl', 'spic', 'unbeliev', 'approach', 'goodal', 'impress', 'e.', 'feet', 'upstair', 'than', 'subcontin', 'purchas', 'starv', 'felt', 'uninterrupt', 're', 'molecul', 'drop', 'movy', 'march', 'squad', 'tent', 'machin', 'michig', 'uurgh', 'wunderkind', 'trash', 'shotgun', 'positron', 'diplom', 'bouillabaiss', 'vestig', 'should', 'sculpt', 'those…', 'wolowitz', 'ew', 'noteworthy', 'b', 'batcrap', 'rip', 'mommy', 'root', 'stup', 'roast', 'moving…', 'num', 'lan', 'single-handedly', 'flight', 'spun', 'los', 'hmm', 'or', 'manifest', 'apiec', 'tag', 've', 'in…', 'peel', 'contain', 'blanket', 're…', 'rid', 'dry', 'lif', 'funny', 'lo-main', 'occ', 'dirty', 'inact', 'rooky', 'hook', 'screwed', 'finger…', 'fut', 'kam', 'sound', 'nee', 'pheromon', 'men', 'et', 'leonard', 'project', 'temp', 'drug', 'vict', 'impuls', 'prey', 'confus', 'jos', 'atom', 'consum', 'perc', 'omah', 'later…', 'youngest', 'going', 'intak', 'inv', 'chernobyl', 'humo', 'ign', 'interpret', 'clon', 'freak', 'einstein', 'sneak', 'carbon', 'cel', 'chocol', 'short-term', 'encount', 'ah', 'erwin', 'account', 'origin', 'disturb', 'en', 'carv', 'emit', 'habil', 'lady', 'chin', 'sup', 'methodolog', 'huff', 'wound', 'build', 'deny', 'ide', 'alarm', 'ceas', 'mot', 'frosty', 'opportun', 'dyson', 'term', 'song', 'photograph', 'elton', 'could', 'carpet', 'progeny', 'nerd-migos', 'bye-by', 'lab', 'swoop', 'weight', 'loom', 'hop', 'john', 'right…', 'skin', 'reach', 'lik', 'thought', 'brainiac', 'screw-up', 'apey', 'sweaty', 'draw', 'lisbon', 'dib', 'an', 'slic', 'pea', 'area', 'platitud', 'shelv', 'bril', 'hi', 'befriend', 'orna', 'franch', 'cap', 'matrix', 'libr', 'carp', 'hok', 'fantas', 'overflow', 'card', 'trip', 'steph', 'fault', 'evid', 'myspac', 'resolv', 'anticip', 'bik', 'ter', 'shot', 'the…', 'text', 'flash', 'cam', 'hesit', 'blitzkrieg', 'absurd', 'blood', 'petry', 'expuls', 'shift', 'roth', 'copenh', 'cog', 'rus', 'warn', 'rat', 'develop', 'mul', 'savo', 'ebay', 'clock', 'ceram', 'year-old', 'veget', 'cub', 'thes', 'mutil', 'mech', 'person', 'socy', 'arrog', 'non-fat', 'fulcr', 'ketchup', 'exasp', 'occam', 'cheap', 'ding-dongs', 'quizz', 'push', 'am…', 'near', 'cornhusk', 'alex', 'dilepton', 'moth', 'he…', 'jump', 'happy', 'troubl', 'opt', 'somebody', 'yoghurt', 'fingerprint', 'feat', 'cov', 'blu', 's…', 'ros', 'lamd', 'swol', 'testic', 'shop', 'intox', 'ganesh', 'virgin', 'geig', 'meet', 'cheerlead', '15', 'photon', 'subtl', 'yummy', 'wan', 'feynm', 'hee', 'context', '“', 'fastest', 'exot', 'handl', 'cav', 'confid', 'overlap', 'nod', 'geord', 'pushy', 'amb', 'lin', 'gold', 'jerk', 'want', 'seal', 'gir', 'woah', 'freedom', 'moist', 'polit', 'market', 'pkshhhh', 'll', 'showcas', 'behind', 'help', 'mind', 'be…', 'curry', 'below', 'print', 'gei', '8:06', 'belt', 'heh-heh', 'mal', 'wal', 'age-appropriat', 'protect', 'matter…', 'anaheim', 'devolv', 'minestron', 'vomit', 'led', 'cho', 'reserv', 'convers', 'climb', 'saddest', 'method', 'fil', 'bat-signal', 'sourc', 'kid', 'scal', 'feel', 'walletnook.com', 'brady', 'wee', 'geek', 'psych', 'interest', 'aveng', 'put-put', 'so', 'cup', 'mozart', 'mop', 'brac', '5027.3', 'otolaryngolog', 'sad', 'perfect', 'zebr', 'hey', 'cosm', 'threat', 'vis-a-v', 'roswel', 'slack', 'fel', 'musc', 'tor', 'grant', 'scoot', 'cheek', 'enh', 'improb', 'protest', 'dictate…', 'tupperw', 'yield', 'les', 'on', 'would', 'struggle', 'annoy', 'nerdvan', 'boot', 'cavalry', 'focuss', 'lip', 'town', 'apply', 'tampon', 'couldn', 'go-oh-oh-oh', 'am', 'gangst', 'stuff', 'ignit', 'spec', 'ag', 'howy', 'farm', 'televid', 'inform', 'episod', 'swear', 'eq', 'sack', 'contribut', 'cred', 'alphabet', 'jerusalem', 'comb', 'say', 'gods…', 'creepy', 'sci', 'callip', 'crush', 'eclips', 'corduroy', 'adher', 'coat', 'known', 'charlton', 'dit', 'man-sized', 'catwom', 'spars', 'cherusalem', 'french', 'strength', 'delh', 'shrugs', 'o-o-o-oh', 'od', 'husband', 'remot', 'towel', 'talk…', 'hap', 'down', 'pixy', 'lazy', 'hospit', 'may', 'buzz', 'whisp', 'nest', 'see', 'leopold', 'threesome', 'both', 'tel', 'gen', 'mang', 'interrupt', 'marty', 'duvet', 'shredded', 'vad', 'r', 'spray', 'perm', 'collab', 'self-esteem', 'resembl', 'unnecess', 'into', 'singl', 'unlik', 'ridgemont', 'trust', 'sinus', 'ow', 'speechless', 'spoof', 'mark', 'hep', 'aneurysm', 'sush', 'who…', 'relig', 'drol', 'wher', 'wholewh', 'rad', 'ni', 'spoil', 'helicopt', 'straight', 'weav', 'useless', 'guar', 'han', 'doz', 'yes…', 'becau', 'rocket', 'fibr', 'study', 'train', 'baby', 'anthropolog', 'bobsl', 'star', 'ident', 'doll', 'part', 'dar', 'latest', 'hear', 'grasshop', 'um…', 'effort', 'circ', 'split', 'cyc', 'potato', 'gas', 'fruit', 'manufact', 'requir', 'thousand', 'fars', 'tumo', 'leap', 'rep', 'dumb', 'memb', 'tha', 'anywh', 'ach', 'primit', 'situ', 'follow', 'institut', 'inexpl', 'yvet', 'dark', 'environ', 'tangerin', 'agoraphob', 'stick', 'hot', 'hasn', 'immedy', 'commit', 'narrow', 'greek', 'accid', 'clar', 'signal', 'imposit', 'disagr', 'cru', 'delivery', 'goodnight', 'grass', 'lincoln', 'swel', 'joyc', 'pursuit', 'guard', 'supermarket', 'gee', 'condy', 'exact', 'projectil', 'challeng', 'mort', 'inconsid', 'pun', 'sagittari', 'digit', 'search', 'dip', 'worst', 'kyl', 'writ', 'yup', 'cognit', 'weep', 'brown', 'king', 'afraid', '!', 'box', 'inclin', 'verit', 'av', 'un', 'antisoc', 'wash', 'crabby', 'um', 'reduc', 'abraham', 'oft', 'cury', 'fight', 'random', 'protocol', 'poison', 'despair', 'giv', 'll…', 'doppl', 'notewor', 'do', 'largest', 'lousy', 'competit', 'stethoscop', 'behav', 'paint', 'hurt…', 'science-fiction', 'astro-physics', 'koothrapal', 'yeah', 'twenty', 'nippl', 'amygdal', 'tip', 'couch', 'suit', 'snack', 'ov', 'farminfarm', 'quibbl', 'm…', 'schematic', 'broth', 'fella', 'syphilit', 'ris', '8', 'diego', 'mcfloonyloo', 'defect', 'salier', 'mut', 'nut', 'frisk', 'bicyc', 'fin', 'slip', 'dinosa', 'plat', 'involv', 'set', 'meas', 'ago', 'oth', 'bit', 'anim', 'fiv', 'buy', 'jello', 'across', 'grown-up', 'bi-monthly', 'curricul', 'cle', 'brissket', 'set-up', 'insult', 'guil', 'wireless', 'instruct', 'underlin', 'satellit', 'gav', 'monkey', 'mmm-hmmm', 'carn', 'being', 'dis', 'cok', 'rend', 'mountain', 'glass', 'cleans', 'constel', 'cello', 'semiot', 'daddy', 'moustach', 'diseas', 'jar', 'test', 'harrison', 'consol', 'tie', 'furth', 'minim', 'sometim', 'christie', 'any', 'explod', 'paradox', 'juic', 'infery', 'bid', 'expl', 'subway', 'mail', 'togeth', 'ein', 'cont', 'acknowledg', 'insid', 'tech', 'roof', 'kurt', 'peasy', 'offens', 'prop', 'rup', 'unless', 'valid', 'scratching', 'til', 'gynaecolog', 'pee', 'vip', 'lalit', 'bourne-oppenheimer', 'folksy', 'slash', 'nutcas', 'sit', 'forward', 'admit', 'inefficy', 'parallax', 'ad', 'halifax', 'haroun', 'derail', 'constitut', 'improv', 'oop', 'field', 'din', 'sput', 'teamwork', 'tank', 'circumc', 'was…', 'throws', 'grad', 'scream', 'cricket', 'favour…', 'doc', 'honey', 'prefac', 'funct', 'front', '30', 'robert', 'catch', 'necess', ',', 'quartet', 'lak', 'told', 'texa', 'escap', 'becauth-th-', 'plac', 'accompl', 'y-you', 'they…', 'anyon', 'three', 'snow', 'fract', 'adh', 'cyborg', 'ma', 'whadda-y', 'this…', 'enquiry', 'but…', 'exit', 'lamb', 'hurt', 'at', 'avat', 'co-efficient', 'yesterday', 'blackmail', 'underreact', 'shak', 'interact', 'pasaden', 'ethn', 'expect', '120', 'aaaaargh', 'mod', '6:30', 'offput', 'die', 'dwarf', 'geograph', 'bef', 'elud', 'patel', 'chatty', 'each', 'incompet', 'absolv', 'snarky', 'depart', 'bob', 'bunch', 'deaf', 'room', 'orc', 'tourna', 'teleport', 'crock', 'mini-cam', 'jacqu', 'opposit', 'haway', 'vacu', 'rub', 'middl', 'acceiv', 'flaw', 'bas', 'flat', 'ant', 'non-responsive', 'shortest', 'learn', 'na', 'already', 'did', 'predica', 'tall…', 'owl', 'nat', 'sel', 'asimov', 'fifty', 'crossbow', 'aaaa-aw', 'produc', 'easy', 'supposed…', 'command', 'caught', 'clockw', 'painful…', 'sur', 'credit', 'im', 'torn', 'circumcid', 'won', 'wok', 'track', 'doe', 'jeal', 'along', 'pop', 'blow', 'planet', 'batm', 'comp', 'ritalin', 'biochem', 'googenfeil', '2.0', 'skynet', 'up', 'again', 'disput', 'koothrappal', 'link', 'sprint', 'due', 'infer', 'themselv', 'enslav', 'terminolog', 'someday', 'book', 'collaps', 'winkl', 'grenad', 'fascin', 'hint', 'xia', 'determin', 'damn', 'frag', 'wrist', 'clavic', 'gass', 'storm', 'not', 'whatev', 'effect', 'relay', 'bro', 'oh…', 'san', 'sammy', 'shiv', 'yourself', 'luk', 'guy', 'physiolog', 'closet', 'howard…', 'or…', 'favo', 'world', 'chit-ch', 'mou', 'argon', 'gaz', 'uter', 'bang', 'chast', 'mast', 'lick', 'nail', 'pand', 'perspir', 'encod', 'relax', 'post-apocalyptic', 'tassl', 'peopl', 'extr', 'vanill', 'kind', 'was', 'delir', 'much', 'capt', '4', 'gross', 'sympos', 'ray', 'jacket', 'pur', 'batchel', 'comic-books', 'loobenfeld', 'calend', 'inadequ', 'exfo', 'tawdry', 'babylon', 'francisco', 'unmitig', 'proff', 'journey', 'stairwel', 'quintess', 'boson', 'tiny', 'bil', 'compon', 'beast', 'visit', 'spok', 'chains…', 'bandwid', 'tomorrow', 'genet', 'busy', 'more…', 'louis-slash-louise', 'to', 'mano-e-mano-e-mano', 'shatn', 'point', 'bir', 'disord', 'shack', 'germ', 'slot', 'm.', 'terr', 'menela', 'entitl', 'vial', 'almost', 'prec', 'sec', 'tear', 'carol', 'surv', 'depict', 'brok', 'seem', 'refil', 'bend', 'hind', 'squabbl', 'neocortex', 'taco', 'smash', 'sam', 'aram', 'surpass', 'skil', 'knotsbury', 'kept', 'tied', 'pharoah', 'swe', 'velcro', 'hindu', 'chees', 'lord', 'limp', 'chimp', 'rescu', 'yip…', 'bed-wetting', 'howev', 'bar-mitzvah', 'troop', 'includ', 'label', 'enema', 'judo', 'pre-adolescent', 'heard', 'mak', 'blind', 'needl', 'depend', 'bed', 'crossb', 'employ', 'caes', 'spidey-sense', 'rajesh', 'scen', 'czechoslovak', 'krob', 'nintendo', 'snip', 'pict', 'a-mano', 'pharmacolog', 'pair', 'expend', 'fallop', 'petit', 'immun', 'can', 'gum', 'thanksg', 'contagy', 'hoo-hoo-hoo', 'lon', 'summon', 'that…', 'forfeit', 'wish', 'know…', 'also', 'lamp', 'benedryl', 'discov', 'knew', 'of', 'execut', 'kidney', 'pi', 'bitch', 'moss', 'wheth', 'hit', 'peanut', 'init', 'kitty…', 'palac', 'leftov', 'hypocrit', 'v.', 'hang', 'just…', 'divers', 'quot', 'lucky', 'dumpl', 'mee', 'grit', 'provid', 'flawless', 'don', 'secret', 'custom', 'frickin', 'loud', 'show', 'cereal…', 'when', 'child', 'nak', 'but', 'd…', 'chew', 'tight', 'host', 'irrit', 'giant', 'wait', 'light', 'viol', 't1', 'air', 'wond', 'alright', 'oooh', 'see-ka-tong-guay-jow', 'forgot', 'analys', 'hunky', 'sub-terranean', 'fresh', 'sav', 'path', 'colourless', 'ebony', 'jok', 'nabakov', 'equ', 'party', 'win', 'sandr', 'mandelbrot', 'comprom', '383', 'yay', 'chao', 'fish', 'gradu', 'seny', 'kim', 'earthquak', 'toilet', 'hamp', 'tunnel', 'dakot', 'warry', 'ruin', 'slid', 'boggl', 'grav', 'albert', 'dol', 'non-freaky', 'principl', 'fraud', 'kob', 'youngst', 'blond', 'ref', 'yod', 'cur', 'less', 'dimend', '1974', 'sor', 'appetit', 'detail', 'fev', 'hmmm', 'celebr', 'bad', 'quant', 'jud', 'heat', 'tun', 'kand', 'kinky', 'sin', 'shy', 'oh', 'congress', 'launch', 'halfl', 'em', 'trestl', 'endang', 'mon', 'eyebrow', 'no…', 'olymp', 'chewbacc', 'regul', 'sheet', 'charact', 'declin', 'contradistinct', 'wail', 'written…', 'bzzz-pchew', 'own', 'ex-boyfriend', 'beach', 'divid', 'second', 'go', 'curv', 'muc', '”', 'bio', 'window', 'bye', 'eigh', 'city', 'no-one', 'although', 'gut', 'cloak', 'sutr', 'pillow', 'hopeless', 'scrap', 'mint', 'stalem', 'worry', 'scrambled', 'success', 'pred', 'lunchroom', 'unstruct', 'magazin', 'circuit', 'synthet', 'equip', 'meantim', 'macaroon', '3', 'desert', 'bought', 'cream', 'shhhhh', 'hows', 'delib', 'minut', 'zon', 'wha…', 'pad', 'fiddl', 'lumin', 'moch', 'dying', 'green', 'leg', 'short', 'sun', 'misjudg', 'tot', 'archim', 'quest', '8:08', 'nightm', 'aisl', 'cheesecak', 'whol', 'pul', 'pain', 'depth', 'violin', 'oompah-loompahs', 'okay…', 'dna', 'answ', 'cornea', 'cry', '45', 'anxy', 'mous', 's', 'hol', 'settl', 'gift', 'why', 'wheel', 'deserv', 'wong', 'larry', 'al', 'nic', 'frankfurt', 'suppos', 'shout', 'surgery', 'febril', 'nanotub', 'cheeseless', 'be', 'imagin', 'hum', 'transy', 'apprec…', 'cut', 'fak', 'fishm', 'so…', 'ship', 'wand', 'email', 'lead', 'blee', 'spin', 'lock', 'reflect', 'engl', 'spear', 'disneyland', 'liqu', 'ablut', 'frequ', 'sem', 'primord', 'cop', 'afflu', 'auct', 'dirt', 'dril', 'troph', 'pon', 'woe', 'emblazon', 'nobel', 'flesh', 'assert', 'forev', 'turmoil', 'council', 'showdown', 'phillip', 'mistak', 'spent', 'conclud', 'corrid', 'transport', 'foreplay', 'hah', 'remind', 'rent', 'fee', 'chaf', 'absorb', 'think', 'crown', 'button', 'cos', 'leonard…', 'protein', 'screw', 'pack', 'boy', 'aircraft', 'semi-skilled', 'uh-duh', 'buddy', 'geometry', 'technolog', 'array', 'forest', 'azero', 'vary', 'control', 'meal', 'regard', 'brain-wave', 'worn', 'fart', 'sean', 'frost', 'country', 'vienn', 'delight', 'high', 'describ', 'kne', '51', 'convert', 'samosa', 'serv', 'afterma', 'hav', 'americ', 'mahalo', 'descend', 'particip', 'bond', 'uh…', 'heidelberg', 'ammo', 'colo', 'greaseboard', 'demonst', 'laptop', 'agr', 'overreact', 'jeopardy', 'techn', 'mean', 'invis', 'got', 'kow-tow', 'brain', 'tsa', 'suspend', 'bogard', 'wasn', 'aug', 'gun', 'non', 'puffy', 'wis', 'board', 'op', 'sint', 'saus', 'dock', 'webcam', 'corn-huskers', 'attitud', 'purpos', 'speech', 'orbit', '7:20', 'him…', 'prescrib', 'teen', 'hawk', 'eloy', 'quart', 'snap', 'weigh', 'webst', 'guine', 'incred', 'robin', 'intercom', 'childr', 'tensil', 'flatw', 'prehensil', 'gar', 'cathy', 'attend', 'millimet', 'ev', 'artic', 'puffery', 'inert', 'distress', 'last', 'ask', 'nois', 'beef', 'pizz', 'phyl', 'seen', 'web', 'might', 'condit', 'e-harmony.com', 'unambigu', 'goody', 'though', 'went', 'oppenheim', 'hat', 'tap', 'ford', 'purs', 'concuss', 'de', 'pract', 'shut', 'ha-h', 'ion', 'supery', 'der', 'mess', 'nerv', 'oc', 'vortex', 'everglad', 'berry', 'hallmark', 'touch', 'mary', 'mirac', 'popcorn', '24/7', 'lying', 'panick', 'twelf', 'hug', 'way', 'slutty', 'sleepy', 'wra', 'threaten', 'big', 'transmit', 'policewom', 'delin', 'las', 'well…', 'lev', 'pass', 'too', 'wu-uh', 'drunk', '8:13', 'laugh', 'ear', 'occupy', 'ran', 'doom', 'upset', 'rememb', 'his', 'enigm', 'pie', 'hairless', 'level', 'dwel', '1876', 'job', 'throat', 'six', 'hour', 'pancak', 'wo', 'buffet', 'sunlight', 'beany', 'lesson', 'liquid', 'intestin', 'walk', 'trap', 'rear', 'day', 'allerg', 'pepperon', '6…7', 'nineteen', 'stak', 'templ', 'hobbit', 'w…', 'gat', 'regardless', 'sweet', 'quiv', 'discard', 'sep', 'boxleitn', 'fores', 'reneg', 'germophob', 'bubbul', 'porkchop', 'accompany', 'sheldon', 'saf', '802.11n', 'thang', 'so…7', 'quark-blocking', 'hmmph', 'cod', 'marry', 'interv', 'repres', 'endeavo', 'appear', 'mediocr', 'chubby', 'century', 'oliv', 'rais', 'head', 'compel', 'remain', 'schrodinger', 'hold', 'stud', 'mus', 'contest', 'act', 'tedy', 'scan', 'heavy', 'baffl', 'scribbled', 'hump', 'stard', 'opin', 'coff', 'heston', 'tri', 'sum', 'splash', 'overpow', 'ug', 'neat', 'dep', 'cornel', 'donkey', 'eggo', 'kneel', 'bet', 'are…', '17', 'wom', 'spock', 'barbershop', 'foc', 'proficy', 'lee', 'refrig', 'interlock', 'sery', 'shampoo', 'little…', 'reappear', 'dissip', 'inch', 'soph', 'uniform', 'truth', 'vot', 'confirm', 'doubt', 'flow', 'mumba', 'loofah', 'band-aid', 'motel', 'meant…', 'docu']\n"
     ]
    }
   ],
   "source": [
    "words = []\n",
    "classes = []\n",
    "documents = []\n",
    "ignore_words = ['?']\n",
    "for pattern in training_data:\n",
    "    w = nltk.word_tokenize(pattern['sentence'])\n",
    "    words.extend(w)\n",
    "    #Agrega documentos en el corpus\n",
    "    documents.append((w, pattern['class']))\n",
    "    # Agrega a la lista de clase\n",
    "    if pattern['class'] not in classes:\n",
    "        classes.append(pattern['class'])\n",
    "\n",
    "# Stop words\n",
    "words = [stemmer.stem(w.lower()) for w in words if w not in ignore_words]\n",
    "words = list(set(words))\n",
    "\n",
    "#duplicados\n",
    "classes = list(set(classes))\n",
    "\n",
    "print (len(documents), \"documents\")\n",
    "print (len(classes), \"classes\", classes)\n",
    "print (len(words), \"unique stemmed words\", words)"
   ]
  },
  {
   "cell_type": "code",
   "execution_count": 7,
   "metadata": {},
   "outputs": [
    {
     "name": "stdout",
     "output_type": "stream",
     "text": [
      "# words 3951\n",
      "# classes 5\n"
     ]
    }
   ],
   "source": [
    "#Datos de entrenamiento\n",
    "training = []\n",
    "output = []\n",
    "output_empty = [0] * len(classes)\n",
    "\n",
    "#Bolsa de palabras para cada oracion\n",
    "for doc in documents:\n",
    "    bag = []\n",
    "    pattern_words = doc[0]\n",
    "    pattern_words = [stemmer.stem(word.lower()) for word in pattern_words]\n",
    "    # matriz de palabras\n",
    "    for w in words:\n",
    "        bag.append(1) if w in pattern_words else bag.append(0)\n",
    "\n",
    "    training.append(bag)\n",
    "    # 1 para la etiqueta actual en otro caso 0\n",
    "    output_row = list(output_empty)\n",
    "    output_row[classes.index(doc[1])] = 1\n",
    "    output.append(output_row)\n",
    "\n",
    "print (\"# words\", len(words))\n",
    "print (\"# classes\", len(classes))"
   ]
  },
  {
   "cell_type": "code",
   "execution_count": 8,
   "metadata": {},
   "outputs": [
    {
     "name": "stdout",
     "output_type": "stream",
     "text": [
      "['so', 'if', 'a', 'photon', 'is', 'direct', 'through', 'a', 'plan', 'with', 'two', 'slit', 'in', 'it', 'and', 'eith', 'slit', 'is', 'observ', 'it', 'wil', 'not', 'go', 'through', 'both', 'slit', '.', 'if', 'it', '’', 's', 'unobserv', 'it', 'wil', ',', 'howev', ',', 'if', 'it', '’', 's', 'observ', 'aft', 'it', '’', 's', 'left', 'the', 'plan', 'but', 'bef', 'it', 'hit', 'it', 'target', ',', 'it', 'wil', 'not', 'hav', 'gon', 'through', 'both', 'slit', '.']\n",
      "[0, 0, 0, 0, 0, 0, 0, 0, 0, 0, 0, 0, 0, 0, 0, 0, 0, 0, 0, 0, 0, 0, 0, 0, 0, 0, 0, 0, 0, 0, 0, 0, 0, 0, 0, 0, 0, 0, 0, 0, 0, 0, 0, 0, 0, 0, 0, 0, 0, 0, 0, 0, 0, 0, 0, 0, 0, 0, 0, 0, 0, 0, 0, 0, 0, 0, 0, 0, 0, 0, 0, 0, 0, 0, 0, 0, 0, 0, 0, 0, 0, 0, 0, 0, 0, 0, 0, 0, 0, 0, 0, 0, 0, 0, 0, 0, 0, 0, 0, 0, 0, 0, 0, 0, 0, 0, 0, 0, 0, 0, 0, 0, 0, 0, 0, 0, 0, 0, 0, 0, 1, 0, 0, 0, 0, 0, 0, 0, 0, 0, 0, 0, 0, 0, 0, 0, 0, 0, 0, 0, 0, 0, 0, 1, 0, 0, 0, 0, 0, 0, 0, 0, 0, 0, 0, 0, 0, 0, 0, 0, 0, 0, 0, 0, 0, 0, 0, 0, 0, 0, 0, 0, 0, 0, 0, 0, 0, 0, 0, 0, 0, 0, 0, 0, 0, 0, 0, 0, 0, 0, 0, 0, 0, 0, 0, 0, 0, 0, 0, 0, 0, 0, 0, 0, 0, 0, 0, 0, 0, 0, 0, 0, 0, 0, 0, 0, 0, 0, 0, 0, 0, 0, 0, 0, 0, 0, 0, 0, 0, 0, 0, 0, 0, 0, 0, 0, 0, 0, 0, 0, 0, 0, 0, 0, 0, 0, 0, 0, 0, 0, 0, 0, 0, 0, 0, 0, 0, 0, 0, 0, 0, 0, 0, 0, 0, 0, 0, 0, 0, 0, 0, 0, 0, 0, 0, 0, 0, 0, 0, 0, 0, 0, 0, 0, 0, 0, 0, 0, 0, 0, 0, 0, 0, 0, 0, 0, 0, 0, 0, 0, 0, 0, 0, 0, 0, 0, 0, 0, 0, 0, 0, 0, 0, 0, 0, 0, 0, 0, 0, 0, 0, 0, 0, 0, 0, 0, 0, 0, 0, 0, 0, 0, 0, 0, 0, 0, 0, 0, 0, 0, 0, 1, 0, 0, 0, 0, 0, 0, 0, 0, 0, 0, 0, 0, 0, 0, 0, 0, 0, 0, 0, 0, 0, 0, 0, 0, 0, 0, 0, 0, 0, 0, 0, 0, 0, 0, 0, 0, 0, 0, 0, 0, 0, 0, 0, 0, 0, 0, 0, 0, 0, 0, 0, 0, 0, 0, 0, 0, 0, 0, 0, 0, 0, 0, 0, 0, 0, 0, 0, 0, 0, 0, 0, 0, 0, 0, 0, 0, 0, 0, 0, 0, 0, 0, 0, 0, 0, 0, 0, 0, 0, 0, 0, 0, 0, 0, 0, 0, 0, 0, 0, 0, 0, 0, 0, 0, 0, 0, 0, 0, 0, 0, 0, 0, 0, 0, 0, 0, 0, 0, 0, 0, 0, 0, 0, 0, 0, 0, 0, 0, 0, 0, 0, 0, 0, 0, 0, 0, 0, 0, 0, 0, 0, 0, 0, 0, 0, 0, 0, 0, 0, 0, 0, 0, 0, 0, 0, 0, 0, 0, 0, 0, 0, 0, 0, 0, 0, 0, 0, 0, 0, 0, 0, 0, 0, 0, 0, 0, 0, 0, 0, 1, 0, 0, 0, 0, 0, 1, 0, 0, 0, 0, 0, 0, 0, 0, 0, 0, 0, 0, 0, 0, 0, 0, 0, 0, 0, 0, 0, 0, 0, 0, 0, 0, 0, 0, 0, 0, 0, 0, 0, 0, 0, 0, 0, 0, 0, 0, 0, 0, 0, 0, 0, 0, 0, 0, 0, 0, 0, 0, 0, 0, 0, 0, 0, 0, 0, 0, 0, 0, 0, 0, 1, 0, 0, 0, 0, 0, 0, 0, 0, 0, 0, 0, 0, 0, 0, 0, 0, 0, 0, 0, 0, 0, 0, 0, 0, 0, 0, 0, 0, 0, 0, 0, 0, 0, 0, 0, 0, 0, 0, 0, 0, 0, 0, 0, 0, 0, 0, 0, 0, 0, 0, 0, 0, 0, 0, 0, 0, 0, 0, 0, 0, 0, 0, 0, 0, 0, 0, 0, 0, 0, 0, 0, 0, 0, 0, 0, 0, 0, 0, 0, 0, 0, 0, 0, 0, 0, 0, 0, 0, 0, 0, 0, 0, 0, 0, 0, 0, 0, 0, 0, 0, 0, 0, 0, 0, 0, 0, 0, 0, 0, 0, 0, 0, 0, 0, 0, 0, 0, 0, 0, 0, 0, 0, 0, 0, 0, 0, 0, 0, 0, 0, 0, 0, 0, 0, 0, 0, 0, 0, 0, 0, 0, 0, 0, 0, 0, 0, 0, 0, 0, 0, 0, 0, 0, 0, 0, 0, 0, 0, 0, 0, 0, 0, 0, 0, 0, 0, 0, 0, 0, 0, 0, 0, 0, 0, 0, 0, 0, 0, 0, 0, 0, 0, 0, 0, 0, 0, 0, 0, 0, 0, 0, 0, 0, 0, 0, 0, 0, 0, 0, 0, 0, 0, 0, 0, 0, 0, 0, 0, 0, 0, 0, 0, 0, 0, 0, 0, 0, 0, 0, 0, 0, 0, 0, 0, 0, 0, 0, 0, 0, 0, 0, 0, 0, 0, 0, 0, 0, 0, 0, 0, 0, 0, 0, 0, 0, 0, 0, 0, 0, 0, 0, 0, 0, 0, 0, 0, 0, 0, 1, 0, 0, 0, 0, 0, 0, 0, 0, 0, 0, 0, 0, 0, 0, 0, 0, 0, 0, 0, 0, 0, 0, 0, 0, 0, 0, 0, 0, 0, 0, 0, 0, 0, 0, 0, 0, 0, 0, 0, 0, 0, 0, 0, 0, 0, 0, 0, 0, 0, 0, 0, 0, 0, 0, 0, 0, 0, 0, 0, 0, 0, 0, 0, 1, 0, 0, 0, 0, 0, 0, 0, 0, 0, 0, 0, 0, 0, 0, 0, 0, 0, 0, 0, 0, 0, 0, 0, 0, 0, 0, 0, 0, 0, 0, 0, 0, 0, 0, 0, 0, 0, 0, 0, 0, 0, 0, 0, 0, 0, 0, 0, 0, 0, 0, 0, 0, 0, 0, 0, 0, 0, 0, 0, 0, 0, 0, 0, 0, 0, 0, 0, 0, 0, 0, 0, 0, 0, 0, 0, 0, 0, 0, 0, 0, 0, 0, 0, 0, 0, 0, 0, 0, 0, 0, 0, 0, 0, 0, 0, 0, 0, 0, 0, 0, 0, 0, 0, 0, 0, 0, 0, 0, 0, 0, 0, 0, 0, 0, 1, 0, 0, 0, 0, 0, 0, 0, 0, 0, 0, 0, 0, 0, 0, 0, 0, 0, 0, 0, 0, 0, 0, 0, 0, 0, 0, 0, 0, 0, 1, 0, 0, 0, 0, 0, 0, 0, 0, 0, 0, 0, 0, 0, 0, 0, 0, 0, 0, 0, 0, 0, 0, 0, 0, 0, 0, 0, 0, 0, 0, 0, 0, 0, 0, 0, 0, 0, 0, 0, 0, 0, 0, 0, 0, 0, 0, 0, 0, 0, 1, 0, 0, 0, 0, 0, 0, 0, 0, 0, 0, 0, 0, 0, 0, 0, 0, 0, 0, 0, 0, 0, 0, 0, 0, 0, 1, 0, 0, 0, 0, 0, 0, 0, 0, 0, 0, 0, 0, 0, 0, 0, 0, 0, 0, 0, 0, 0, 0, 0, 0, 0, 0, 0, 0, 0, 0, 0, 0, 0, 0, 0, 0, 0, 0, 0, 0, 0, 0, 0, 0, 0, 0, 0, 0, 0, 0, 0, 0, 0, 0, 0, 0, 0, 0, 0, 0, 0, 0, 0, 0, 0, 0, 0, 0, 0, 0, 0, 0, 1, 0, 0, 0, 0, 0, 0, 0, 0, 0, 0, 0, 0, 0, 0, 0, 0, 0, 0, 0, 0, 0, 0, 0, 0, 0, 0, 0, 0, 0, 0, 0, 0, 0, 0, 0, 0, 0, 0, 0, 0, 0, 0, 0, 0, 0, 0, 0, 0, 0, 0, 0, 0, 0, 0, 0, 0, 0, 0, 0, 0, 0, 0, 0, 0, 0, 0, 0, 0, 0, 0, 0, 0, 0, 0, 0, 0, 0, 0, 0, 0, 0, 0, 0, 0, 0, 0, 0, 0, 0, 0, 0, 0, 0, 0, 0, 0, 0, 0, 0, 0, 0, 0, 0, 0, 0, 0, 0, 0, 0, 0, 0, 0, 0, 0, 0, 0, 0, 0, 0, 0, 0, 0, 0, 0, 0, 0, 0, 0, 0, 0, 0, 0, 0, 0, 0, 0, 0, 0, 0, 0, 1, 0, 0, 0, 0, 0, 0, 0, 0, 0, 0, 0, 0, 1, 0, 0, 0, 0, 0, 0, 0, 0, 0, 0, 0, 0, 0, 0, 0, 0, 0, 0, 0, 0, 0, 0, 0, 0, 0, 0, 0, 0, 0, 0, 0, 0, 0, 0, 0, 0, 0, 0, 0, 0, 0, 0, 0, 0, 0, 0, 0, 0, 0, 0, 0, 0, 0, 0, 0, 0, 0, 0, 0, 0, 0, 0, 0, 0, 0, 0, 0, 0, 0, 0, 0, 0, 0, 0, 0, 0, 0, 0, 0, 0, 0, 0, 0, 0, 0, 0, 0, 0, 0, 0, 0, 0, 0, 0, 0, 0, 0, 0, 0, 0, 0, 0, 0, 0, 0, 0, 0, 0, 0, 0, 0, 0, 0, 0, 0, 0, 0, 0, 0, 0, 0, 1, 0, 0, 0, 0, 0, 0, 0, 0, 0, 0, 1, 0, 0, 0, 0, 0, 0, 0, 0, 0, 0, 0, 0, 0, 0, 0, 0, 0, 0, 0, 0, 0, 0, 0, 0, 0, 0, 0, 0, 0, 0, 0, 0, 0, 0, 0, 0, 0, 0, 0, 0, 0, 0, 0, 0, 0, 0, 0, 0, 0, 0, 0, 0, 0, 0, 0, 0, 0, 0, 0, 0, 0, 0, 0, 0, 0, 0, 0, 0, 0, 0, 0, 0, 1, 0, 0, 0, 0, 0, 0, 0, 0, 0, 0, 0, 0, 0, 0, 0, 0, 0, 0, 0, 0, 0, 0, 0, 0, 0, 0, 0, 0, 0, 0, 0, 0, 0, 0, 0, 0, 0, 0, 0, 0, 0, 0, 0, 0, 0, 0, 0, 0, 0, 0, 0, 0, 0, 0, 0, 0, 0, 0, 0, 0, 0, 0, 0, 0, 0, 0, 0, 0, 0, 0, 0, 0, 0, 0, 0, 0, 0, 0, 0, 0, 0, 1, 0, 0, 0, 0, 0, 0, 0, 0, 0, 0, 0, 0, 0, 0, 0, 0, 0, 0, 0, 0, 0, 0, 0, 0, 0, 0, 0, 0, 0, 0, 0, 0, 0, 0, 0, 0, 0, 0, 0, 0, 0, 0, 0, 0, 0, 0, 0, 0, 0, 0, 0, 0, 0, 0, 0, 0, 0, 0, 0, 0, 0, 0, 0, 0, 0, 0, 0, 0, 0, 0, 0, 0, 0, 0, 0, 0, 0, 0, 0, 0, 0, 0, 0, 0, 0, 0, 0, 0, 0, 0, 0, 0, 0, 0, 0, 0, 0, 0, 0, 0, 0, 0, 0, 0, 0, 0, 0, 0, 0, 0, 0, 0, 0, 0, 0, 0, 0, 0, 0, 0, 0, 0, 0, 0, 0, 0, 0, 0, 0, 0, 0, 0, 0, 0, 0, 0, 0, 0, 0, 0, 0, 0, 0, 0, 0, 0, 0, 0, 0, 0, 0, 0, 0, 0, 0, 0, 0, 0, 0, 0, 0, 0, 0, 0, 0, 0, 0, 0, 0, 0, 0, 0, 0, 0, 0, 0, 0, 0, 0, 0, 0, 0, 0, 0, 0, 0, 0, 0, 0, 0, 0, 0, 0, 0, 0, 0, 0, 0, 0, 0, 0, 0, 0, 0, 0, 0, 0, 0, 0, 0, 0, 0, 0, 0, 0, 0, 0, 0, 0, 0, 0, 0, 0, 0, 0, 0, 0, 0, 0, 0, 0, 0, 0, 0, 0, 0, 0, 0, 0, 0, 0, 0, 0, 0, 0, 0, 0, 0, 0, 0, 0, 0, 0, 0, 0, 0, 0, 0, 0, 0, 0, 0, 0, 0, 0, 0, 0, 0, 0, 0, 0, 0, 0, 0, 0, 0, 0, 0, 0, 0, 0, 0, 0, 0, 0, 0, 0, 0, 0, 0, 0, 0, 0, 0, 0, 0, 0, 0, 0, 0, 0, 1, 0, 0, 0, 0, 0, 0, 0, 0, 0, 0, 0, 0, 0, 0, 0, 0, 0, 0, 0, 0, 0, 0, 0, 0, 0, 0, 0, 0, 0, 0, 0, 0, 0, 0, 0, 0, 0, 0, 0, 0, 0, 0, 0, 0, 0, 0, 0, 0, 0, 0, 0, 0, 0, 0, 0, 1, 0, 0, 0, 0, 0, 0, 0, 0, 0, 0, 0, 0, 0, 0, 0, 0, 0, 0, 0, 0, 0, 0, 0, 0, 0, 0, 0, 0, 0, 0, 0, 0, 0, 0, 0, 0, 0, 0, 0, 0, 0, 0, 0, 0, 0, 0, 0, 1, 0, 0, 0, 0, 0, 0, 0, 0, 0, 0, 0, 0, 0, 0, 0, 0, 0, 0, 0, 0, 0, 0, 0, 0, 0, 0, 0, 0, 0, 0, 0, 0, 0, 0, 1, 0, 0, 0, 0, 0, 0, 0, 0, 0, 0, 0, 0, 0, 0, 0, 0, 0, 0, 0, 0, 0, 0, 0, 0, 0, 0, 0, 0, 0, 0, 0, 0, 0, 0, 0, 0, 0, 0, 0, 0, 0, 0, 0, 0, 0, 0, 0, 0, 0, 0, 0, 0, 0, 0, 0, 0, 0, 0, 0, 0, 0, 0, 0, 0, 0, 0, 0, 0, 0, 0, 0, 0, 0, 0, 0, 0, 0, 0, 0, 0, 0, 0, 0, 0, 0, 0, 0, 0, 0, 0, 0, 0, 0, 0, 0, 0, 0, 0, 0, 0, 0, 0, 0, 0, 0, 0, 0, 0, 0, 0, 0, 0, 0, 0, 0, 0, 0, 0, 0, 0, 0, 0, 0, 0, 0, 0, 0, 0, 0, 0, 0, 0, 0, 0, 0, 0, 0, 0, 0, 0, 0, 0, 0, 0, 0, 0, 0, 0, 0, 0, 0, 0, 0, 0, 0, 0, 0, 0, 0, 0, 0, 0, 0, 0, 0, 0, 0, 0, 0, 0, 0, 0, 0, 0, 0, 0, 0, 0, 0, 0, 0, 0, 0, 0, 0, 0, 0, 0, 0, 0, 0, 0, 0, 0, 0, 0, 0, 0, 0, 0, 0, 0, 0, 0, 0, 0, 0, 0, 0, 0, 0, 0, 0, 0, 0, 0, 0, 0, 0, 0, 0, 0, 0, 0, 0, 0, 0, 0, 0, 0, 0, 0, 0, 0, 0, 0, 0, 0, 0, 0, 0, 0, 0, 0, 0, 0, 0, 0, 0, 0, 0, 0, 0, 0, 0, 0, 0, 0, 0, 0, 0, 0, 0, 0, 0, 0, 0, 0, 0, 0, 0, 0, 0, 0, 0, 0, 0, 0, 0, 0, 0, 0, 0, 0, 0, 0, 0, 0, 0, 0, 0, 0, 0, 0, 0, 0, 0, 0, 0, 0, 0, 0, 0, 0, 0, 0, 0, 0, 0, 0, 0, 0, 0, 0, 0, 0, 0, 0, 0, 0, 0, 0, 0, 0, 0, 0, 0, 0, 0, 0, 0, 0, 0, 0, 0, 0, 0, 0, 0, 0, 0, 0, 0, 0, 0, 0, 0, 0, 0, 0, 0, 0, 0, 0, 0, 0, 0, 0, 0, 0, 0, 0, 0, 0, 0, 0, 0, 0, 0, 0, 0, 0, 0, 0, 0, 0, 0, 0, 0, 0, 0, 0, 0, 0, 0, 0, 0, 0, 0, 0, 0, 0, 0, 0, 0, 0, 0, 0, 0, 0, 0, 0, 0, 0, 0, 0, 0, 0, 0, 0, 0, 0, 0, 0, 0, 0, 0, 0, 0, 0, 0, 0, 0, 0, 0, 0, 0, 0, 0, 0, 0, 0, 0, 0, 0, 0, 0, 0, 0, 0, 0, 0, 0, 0, 0, 0, 0, 0, 0, 0, 0, 0, 0, 0, 0, 0, 0, 0, 0, 0, 0, 0, 0, 0, 0, 0, 0, 0, 0, 0, 0, 0, 0, 0, 0, 0, 0, 1, 0, 0, 0, 0, 0, 0, 0, 0, 0, 0, 0, 0, 0, 0, 0, 0, 0, 0, 0, 0, 0, 0, 0, 0, 0, 0, 0, 0, 0, 0, 0, 0, 0, 0, 0, 0, 0, 0, 0, 0, 0, 0, 0, 0, 0, 0, 0, 0, 0, 0, 0, 0, 0, 0, 0, 0, 0, 0, 0, 0, 0, 0, 0, 0, 0, 0, 0, 0, 0, 0, 0, 0, 1, 0, 0, 0, 0, 0, 0, 0, 0, 0, 0, 0, 0, 0, 0, 0, 0, 0, 0, 0, 0, 0, 0, 0, 0, 0, 0, 0, 0, 0, 0, 0, 0, 0, 0, 0, 0, 0, 0, 0, 0, 0, 0, 0, 0, 0, 0, 0, 0, 0, 0, 0, 0, 0, 0, 0, 0, 0, 0, 0, 0, 0, 0, 0, 0, 0, 0, 0, 0, 0, 0, 0, 0, 0, 0, 0, 0, 0, 0, 0, 0, 0, 0, 0, 0, 0, 0, 0, 0, 0, 0, 0, 0, 0, 0, 0, 0, 0, 0, 0, 0, 1, 0, 0, 0, 0, 0, 0, 0, 0, 0, 0, 0, 0, 0, 0, 0, 0, 0, 0, 0, 0, 0, 0, 0, 0, 0, 0, 0, 0, 0, 0, 0, 0, 0, 0, 0, 0, 0, 0, 0, 0, 0, 0, 0, 0, 0, 0, 0, 0, 0, 0, 0, 0, 0, 0, 0, 0, 0, 0, 0, 0, 0, 0, 0, 0, 0, 0, 0, 0, 0, 0, 0, 0, 0, 0, 0, 0, 0, 0, 0, 0, 0, 0, 0, 0, 0, 0, 0, 0, 0, 0, 0, 0, 0, 0, 0, 0, 0, 0, 0, 0, 0, 0, 0, 0, 0, 0, 0, 0, 0, 0, 0, 0, 0, 0, 0, 0, 0, 0, 0, 0, 0, 0, 0, 0, 0, 0, 0, 0, 0, 0, 0, 0, 0, 0, 0, 0, 0, 0, 0, 0, 0, 0, 0, 0, 0, 0, 0, 0, 0, 0, 0, 0, 0, 0, 0, 0, 0, 0, 0, 0, 0, 0, 0, 0, 0, 0, 0, 0, 0, 0, 0, 0, 0, 0, 0, 0, 0, 0, 0, 0, 0, 0, 0, 0, 0, 0, 0, 0, 0, 0, 0, 0, 0, 0, 0, 0, 0, 0, 0, 0, 0, 0, 0, 0, 0, 0, 0, 0, 0, 0, 0, 0, 0, 0, 0, 0, 0, 0, 0, 0, 0, 0, 0, 0, 0, 0, 0, 0, 0, 0, 0, 0, 0, 0, 0, 0, 0, 0, 0, 0, 0, 0, 0, 0, 0, 0, 0, 0, 0, 0, 0, 0, 0, 0, 0, 0, 0, 0, 0, 0, 0, 0, 0, 0, 0, 0, 0, 0, 0, 0, 0, 0, 0, 0, 0, 0, 0, 0, 0, 0, 0, 0, 0, 0, 0, 0, 0, 0, 0, 0, 0, 0, 0, 0, 0, 0, 0, 0, 0, 0, 0, 0, 0, 0, 0, 0, 0, 0, 0, 0, 0, 0, 1, 0, 0, 0, 0, 0, 0, 0, 0, 0, 0, 0, 0, 0, 0, 0, 0, 0, 0, 0, 0, 0, 0, 0, 0, 0, 0, 0, 0, 0, 0, 0, 0, 0, 0, 0, 0, 0, 0, 0, 0, 0, 0, 0, 1, 0, 0, 0, 0, 0, 0, 0, 0, 0, 0, 0, 0, 0, 0, 0, 0, 0, 0, 0, 0, 0, 0, 0, 0, 0, 0, 0, 0, 0, 0, 0, 0, 0, 0, 0, 0, 0, 0, 0, 0, 0, 0, 0, 0, 0, 0, 0, 0, 0, 0, 0, 0, 0, 0, 0, 0, 0, 0, 0, 0, 0, 0, 0, 0, 0, 0, 0, 0, 0, 0, 0, 0, 0, 0, 0, 0, 0, 0, 0, 0, 0, 0, 0, 0, 0, 0, 0, 0, 0, 0, 0, 0, 0, 0, 0, 0, 0, 1, 0, 0, 0, 0, 0, 0, 0, 0, 0, 0, 0, 0, 0, 0, 0, 0, 0, 0, 0, 0, 0, 0, 0, 0, 0, 0, 0, 0, 0, 0, 0, 0, 0, 0, 0, 0, 0, 0, 0, 0, 0, 0, 0, 0, 0, 0, 0, 0, 0, 0, 0, 0, 0, 0, 0, 0, 0, 0, 0, 0, 0, 0, 0, 0, 0, 0, 0, 0, 0, 0, 0, 0, 0, 0, 0, 0, 0, 0, 0, 0, 0, 0, 0, 0, 0, 0, 0, 0, 0, 0, 0, 0, 0, 0, 0, 0, 0, 0, 0, 0, 0, 0, 0, 0, 0, 0, 0, 0, 0, 0, 0, 0, 0, 0, 0, 0, 0, 0, 0, 0, 0, 0, 0, 1, 0, 0, 0, 0, 0, 0, 0, 0, 0, 0, 0, 0, 0, 0, 0, 0, 0, 0, 0, 0, 0, 0, 0, 0, 0, 0, 0, 0, 0, 0, 0, 0, 0, 0, 0, 0, 0, 0, 0, 0, 0, 0, 0, 0, 0, 0, 0, 0, 0, 0, 0, 0, 0, 0, 1, 0, 0, 0, 0, 0, 0, 0, 0, 0, 0, 0, 0, 0, 0, 0, 0, 0, 0, 0, 0, 0, 0, 0, 0, 0, 0, 0, 1, 0, 0, 0, 0, 0, 0, 0, 0, 0, 0, 0, 0, 0, 0, 0, 0, 0, 0, 0, 0, 0, 0, 0, 0, 0, 0, 0, 0, 0, 0, 0, 0, 0, 0, 0, 0, 0, 0, 0, 0, 0, 0, 0, 0, 0, 0, 0, 0, 0, 0, 0, 0, 0, 0, 0, 0, 0, 0, 0, 0, 0, 0, 0, 0, 0, 0, 0, 0, 0, 0, 0, 0, 0, 0, 0, 0, 0, 0, 0, 0, 0, 0, 0, 0, 0, 0, 0, 0, 0, 0, 0, 0, 0, 0, 0, 0, 0, 0, 0, 0, 0, 0, 0, 1, 0, 0, 0, 0, 0, 0, 0, 0, 0, 0, 0, 0, 0, 0, 0, 0, 0, 0, 0, 0, 0, 0, 0, 0, 0, 0, 0, 0, 0, 0, 0, 0, 0, 0, 0, 0, 0, 0, 0, 0, 0, 0, 0, 0, 0, 0, 0, 0, 0, 0, 0, 0, 0, 0, 0, 0, 0, 0, 0, 0, 0, 0, 0, 0, 0, 0, 0, 0, 0, 0, 0, 1, 0, 0, 0, 0, 0, 0, 0, 0, 0, 0, 0, 0, 0, 0, 0, 0, 0, 0, 0, 0, 0, 0, 0, 0, 0, 0, 0, 0, 0, 0, 0, 0, 0, 0, 0, 0, 0, 0, 0, 0, 0, 0, 0, 0, 0, 0, 0, 0, 0, 0, 0, 0, 0, 0, 0, 0, 0, 0, 0, 0, 0, 0, 0, 0, 0, 0, 0, 0, 0, 0, 0, 0, 0, 0, 0, 0, 0, 0, 0, 0, 0, 0, 0, 0, 0, 0, 0, 0, 0, 0, 0, 0, 0, 0, 0, 0, 0, 0, 0, 0, 0, 0, 0, 0, 0, 0, 0, 0, 0, 1, 0, 0, 0, 0, 0, 0, 0, 0, 0, 0, 0, 0, 0, 0, 0, 0, 0, 0, 0, 0, 0, 0, 0, 0, 0, 0, 0, 0, 0, 0, 0, 0, 0, 0, 0, 0, 0, 0, 0, 0, 0, 0, 0, 0, 0, 0, 0, 0, 0, 0, 0, 0, 0, 0, 0, 0, 0, 0, 0, 0, 0, 0, 0, 0, 0, 0, 0, 0, 0, 0, 0, 0, 0, 0, 0, 0, 0, 0, 0, 0, 0, 0, 0, 0, 0, 0, 0, 0, 0, 0, 0, 0, 0, 0, 0, 0, 0, 0, 0, 0, 0, 0, 0, 0, 0, 0, 0, 0, 0, 0, 0, 0, 0, 0, 0, 0, 0, 0, 0, 0, 0, 0, 0, 0, 0, 0, 0, 0, 0, 0, 0, 0, 0, 0, 0, 0, 0, 0, 0, 0, 0, 0, 0, 0, 0, 0, 0, 0, 0, 0, 0, 0, 0, 0, 0, 0, 0, 0, 0, 0, 0, 0, 0, 0, 0, 0, 0, 0, 0, 0, 0, 0, 0, 0, 0, 0, 0, 0, 0, 0, 0, 0, 0, 0, 0, 0, 0, 0, 0, 0, 0, 0, 0, 0, 0, 0, 0, 0, 0, 0, 0, 0, 0, 0, 0, 0, 0, 0, 0, 0, 0, 0, 0, 0, 0, 0, 0, 0, 0, 0, 0, 0, 0, 0, 0, 0, 0, 0, 0, 0, 0, 0, 0, 0, 0, 0, 0, 0, 0, 0, 0, 0, 0, 0, 0, 0, 0, 0, 0, 0, 0, 0, 0, 0, 0, 0, 0, 0]\n",
      "[0, 0, 0, 0, 1]\n"
     ]
    }
   ],
   "source": [
    "i = 0\n",
    "w = documents[i][0]\n",
    "print ([stemmer.stem(word.lower()) for word in w])\n",
    "print (training[i])\n",
    "print (output[i])"
   ]
  },
  {
   "cell_type": "code",
   "execution_count": 9,
   "metadata": {},
   "outputs": [],
   "source": [
    "import numpy as np\n",
    "import time\n",
    "\n",
    "#valores entre 0 y uno\n",
    "def sigmoid(x):\n",
    "    output = 1/(1+np.exp(-x))\n",
    "    return output\n",
    "\n",
    "# derivada de sigmoid\n",
    "def sigmoid_output_to_derivative(output):\n",
    "    return output*(1-output)\n",
    " \n",
    "def clean_up_sentence(sentence):\n",
    "    sentence_words = nltk.word_tokenize(sentence)\n",
    "    sentence_words = [stemmer.stem(word.lower()) for word in sentence_words]\n",
    "    return sentence_words\n",
    "\n",
    "#Bolsa de palabras\n",
    "def bow(sentence, words, show_details=False):\n",
    "    sentence_words = clean_up_sentence(sentence)\n",
    "    bag = [0]*len(words)  \n",
    "    for s in sentence_words:\n",
    "        for i,w in enumerate(words):\n",
    "            if w == s: \n",
    "                bag[i] = 1\n",
    "                if show_details:\n",
    "                    print (\"found in bag: %s\" % w)\n",
    "\n",
    "    return(np.array(bag))\n",
    "\n",
    "def think(sentence, show_details=False):\n",
    "    x = bow(sentence.lower(), words, show_details)\n",
    "    if show_details:\n",
    "        print (\"sentence:\", sentence, \"\\n bow:\", x)\n",
    "    l0 = x\n",
    "    l1 = sigmoid(np.dot(l0, synapse_0))\n",
    "    l2 = sigmoid(np.dot(l1, synapse_1))\n",
    "    return l2"
   ]
  },
  {
   "cell_type": "code",
   "execution_count": 10,
   "metadata": {},
   "outputs": [],
   "source": [
    "def train(X, y, hidden_neurons=10, alpha=1, epochs=50000, dropout=False, dropout_percent=0.5):\n",
    "\n",
    "    print (\"Training with %s neurons, alpha:%s, dropout:%s %s\" % (hidden_neurons, str(alpha), dropout, dropout_percent if dropout else '') )\n",
    "    print (\"Input matrix: %sx%s    Output matrix: %sx%s\" % (len(X),len(X[0]),1, len(classes)) )\n",
    "    np.random.seed(1)\n",
    "\n",
    "    last_mean_error = 1\n",
    "    # Los pesos se inicializan de forma aleatoria\n",
    "    synapse_0 = 2*np.random.random((len(X[0]), hidden_neurons)) - 1\n",
    "    synapse_1 = 2*np.random.random((hidden_neurons, len(classes))) - 1\n",
    "\n",
    "    prev_synapse_0_weight_update = np.zeros_like(synapse_0)\n",
    "    prev_synapse_1_weight_update = np.zeros_like(synapse_1)\n",
    "\n",
    "    synapse_0_direction_count = np.zeros_like(synapse_0)\n",
    "    synapse_1_direction_count = np.zeros_like(synapse_1)\n",
    "        \n",
    "    for j in iter(range(epochs+1)):\n",
    "\n",
    "        # Capas\n",
    "        layer_0 = X\n",
    "        layer_1 = sigmoid(np.dot(layer_0, synapse_0))\n",
    "                \n",
    "        if(dropout):\n",
    "            layer_1 *= np.random.binomial([np.ones((len(X),hidden_neurons))],1-dropout_percent)[0] * (1.0/(1-dropout_percent))\n",
    "\n",
    "        layer_2 = sigmoid(np.dot(layer_1, synapse_1))\n",
    "\n",
    "        # Incertidumbre\n",
    "        layer_2_error = y - layer_2\n",
    "\n",
    "        if (j% 10000) == 0 and j > 5000:\n",
    "            if np.mean(np.abs(layer_2_error)) < last_mean_error:\n",
    "                print (\"delta after \"+str(j)+\" iterations:\" + str(np.mean(np.abs(layer_2_error))) )\n",
    "                last_mean_error = np.mean(np.abs(layer_2_error))\n",
    "            else:\n",
    "                print (\"break:\", np.mean(np.abs(layer_2_error)), \">\", last_mean_error )\n",
    "                break\n",
    "                \n",
    "        layer_2_delta = layer_2_error * sigmoid_output_to_derivative(layer_2)\n",
    "\n",
    "        layer_1_error = layer_2_delta.dot(synapse_1.T)\n",
    "\n",
    "\n",
    "        layer_1_delta = layer_1_error * sigmoid_output_to_derivative(layer_1)\n",
    "        \n",
    "        synapse_1_weight_update = (layer_1.T.dot(layer_2_delta))\n",
    "        synapse_0_weight_update = (layer_0.T.dot(layer_1_delta))\n",
    "        \n",
    "        if(j > 0):\n",
    "            synapse_0_direction_count += np.abs(((synapse_0_weight_update > 0)+0) - ((prev_synapse_0_weight_update > 0) + 0))\n",
    "            synapse_1_direction_count += np.abs(((synapse_1_weight_update > 0)+0) - ((prev_synapse_1_weight_update > 0) + 0))        \n",
    "        \n",
    "        #Al experimentar con diferentes 'alfa' \n",
    "        #(parámetro de descenso de gradiente) \n",
    "        #y ver cómo afecta la tasa de error. \n",
    "        #Este parámetro ayuda a nuestro ajuste \n",
    "        #de error a encontrar la tasa de error más baja\n",
    "        synapse_1 += alpha * synapse_1_weight_update\n",
    "        synapse_0 += alpha * synapse_0_weight_update\n",
    "        \n",
    "        prev_synapse_0_weight_update = synapse_0_weight_update\n",
    "        prev_synapse_1_weight_update = synapse_1_weight_update\n",
    "\n",
    "    now = datetime.datetime.now()\n",
    "\n",
    "    synapse = {'synapse0': synapse_0.tolist(), 'synapse1': synapse_1.tolist(),\n",
    "               'datetime': now.strftime(\"%Y-%m-%d %H:%M\"),\n",
    "               'words': words,\n",
    "               'classes': classes\n",
    "              }\n",
    "    synapse_file = \"synapses.json\"\n",
    "\n",
    "    with open(synapse_file, 'w') as outfile:\n",
    "        json.dump(synapse, outfile, indent=4, sort_keys=True)\n",
    "    print (\"saved synapses to:\", synapse_file)\n"
   ]
  },
  {
   "cell_type": "code",
   "execution_count": 11,
   "metadata": {},
   "outputs": [
    {
     "name": "stdout",
     "output_type": "stream",
     "text": [
      "Training with 20 neurons, alpha:0.1, dropout:False \n",
      "Input matrix: 3643x3951    Output matrix: 1x5\n",
      "delta after 10000 iterations:0.2784518253989951\n",
      "delta after 20000 iterations:0.27845182539883173\n",
      "delta after 30000 iterations:0.2784518253986658\n",
      "delta after 40000 iterations:0.27845182539849733\n",
      "delta after 50000 iterations:0.2784518253983261\n",
      "delta after 60000 iterations:0.27845182539815216\n",
      "delta after 70000 iterations:0.2784518253979755\n",
      "delta after 80000 iterations:0.27845182539779595\n",
      "delta after 90000 iterations:0.2784518253976135\n",
      "delta after 100000 iterations:0.278451825397428\n",
      "saved synapses to: synapses.json\n",
      "processing time: 21943.582069158554 seconds\n"
     ]
    }
   ],
   "source": [
    "X = np.array(training)\n",
    "y = np.array(output)\n",
    "\n",
    "start_time = time.time()\n",
    "\n",
    "train(X, y, hidden_neurons=20, alpha=0.1, epochs=100000, dropout=False, dropout_percent=0.2)\n",
    "\n",
    "elapsed_time = time.time() - start_time\n",
    "print (\"processing time:\", elapsed_time, \"seconds\")"
   ]
  },
  {
   "cell_type": "code",
   "execution_count": 12,
   "metadata": {},
   "outputs": [
    {
     "name": "stdout",
     "output_type": "stream",
     "text": [
      "sudo make me a sandwich \n",
      " classification: [['sheldon', 0.9999999999938913]]\n",
      "how are you today? \n",
      " classification: [['sheldon', 0.9999999999239289]]\n",
      "talk to you tomorrow \n",
      " classification: [['sheldon', 0.9999999995552937]]\n",
      "who are you? \n",
      " classification: [['sheldon', 0.9999999999615465]]\n",
      "make me some lunch \n",
      " classification: [['sheldon', 0.9999999999993365]]\n",
      "\n",
      "found in bag: how\n",
      "found in bag: was\n",
      "found in bag: yo\n",
      "found in bag: lunch\n",
      "sentence: how was your lunch? \n",
      " bow: [0 0 0 ... 0 0 0]\n",
      "how was your lunch? \n",
      " classification: [['sheldon', 0.9999999989413881]]\n"
     ]
    },
    {
     "data": {
      "text/plain": [
       "[['sheldon', 0.9999999989413881]]"
      ]
     },
     "execution_count": 12,
     "metadata": {},
     "output_type": "execute_result"
    }
   ],
   "source": [
    "\n",
    "ERROR_THRESHOLD = 0.2\n",
    "synapse_file = 'synapses.json' \n",
    "with open(synapse_file) as data_file: \n",
    "    synapse = json.load(data_file) \n",
    "    synapse_0 = np.asarray(synapse['synapse0']) \n",
    "    synapse_1 = np.asarray(synapse['synapse1'])\n",
    "\n",
    "def classify(sentence, show_details=False):\n",
    "    results = think(sentence, show_details)\n",
    "\n",
    "    results = [[i,r] for i,r in enumerate(results) if r>ERROR_THRESHOLD ] \n",
    "    results.sort(key=lambda x: x[1], reverse=True) \n",
    "    return_results =[[classes[r[0]],r[1]] for r in results]\n",
    "    print (\"%s \\n classification: %s\" % (sentence, return_results))\n",
    "    return return_results\n",
    "\n",
    "classify(\"You want to hear an interesting thing about stairs?\")#sheldon\n",
    "classify(\"I don’t care. Two millimetres? That doesn’t seem right.\")#leonard\n",
    "classify(\"Oh, you’re inviting me over to eat?\")#penny\n",
    "classify(\"Wait till you see this.\")#howard\n",
    "classify(\"It’s fantastic. Unbelievable.\")#raj\n",
    "print ()\n",
    "classify(\"It’s before he became a creepy computer voice:.\", show_details=True)#howard"
   ]
  },
  {
   "cell_type": "code",
   "execution_count": null,
   "metadata": {},
   "outputs": [],
   "source": []
  }
 ],
 "metadata": {
  "kernelspec": {
   "display_name": "Python 3",
   "language": "python",
   "name": "python3"
  },
  "language_info": {
   "codemirror_mode": {
    "name": "ipython",
    "version": 3
   },
   "file_extension": ".py",
   "mimetype": "text/x-python",
   "name": "python",
   "nbconvert_exporter": "python",
   "pygments_lexer": "ipython3",
   "version": "3.7.3"
  }
 },
 "nbformat": 4,
 "nbformat_minor": 2
}
